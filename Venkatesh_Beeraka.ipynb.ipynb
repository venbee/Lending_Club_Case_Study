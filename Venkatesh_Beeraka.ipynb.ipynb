{
 "cells": [
  {
   "cell_type": "markdown",
   "id": "cd1f681e",
   "metadata": {},
   "source": [
    " # Lending Club Case Study "
   ]
  },
  {
   "cell_type": "markdown",
   "id": "cc1f8730",
   "metadata": {},
   "source": [
    "### `Python Code Execution for Case Study in Jupyter Notebook`"
   ]
  },
  {
   "cell_type": "markdown",
   "id": "61b41fd5",
   "metadata": {},
   "source": [
    "1. **Importing Required Libraries into Jupyter Notebook**"
   ]
  },
  {
   "cell_type": "code",
   "execution_count": 1,
   "id": "8b7e0091",
   "metadata": {},
   "outputs": [],
   "source": [
    "import pandas as pd               # Importing Pandas Library\n",
    "import numpy as np                # Importing Numpy Library\n",
    "import matplotlib.pyplot as plt   # Importing Matplotlib Library\n",
    "import seaborn as sns             # Importing Seaborn Library\n",
    "import warnings \n",
    "warnings.filterwarnings('ignore') # Importing Warnings Library"
   ]
  },
  {
   "cell_type": "markdown",
   "id": "b2010f6f",
   "metadata": {},
   "source": [
    "\n",
    "2. **Importing the Required Dataset ('loan.csv') into Jupyter Notebook**"
   ]
  },
  {
   "cell_type": "code",
   "execution_count": 2,
   "id": "d554791b",
   "metadata": {},
   "outputs": [],
   "source": [
    "df = pd.read_csv(\"loan.csv\")"
   ]
  },
  {
   "cell_type": "markdown",
   "id": "fac89dbf",
   "metadata": {},
   "source": [
    "3. **Reading the top 5 rows of this dataset**"
   ]
  },
  {
   "cell_type": "code",
   "execution_count": 3,
   "id": "331b5a35",
   "metadata": {},
   "outputs": [
    {
     "data": {
      "text/html": [
       "<div>\n",
       "<style scoped>\n",
       "    .dataframe tbody tr th:only-of-type {\n",
       "        vertical-align: middle;\n",
       "    }\n",
       "\n",
       "    .dataframe tbody tr th {\n",
       "        vertical-align: top;\n",
       "    }\n",
       "\n",
       "    .dataframe thead th {\n",
       "        text-align: right;\n",
       "    }\n",
       "</style>\n",
       "<table border=\"1\" class=\"dataframe\">\n",
       "  <thead>\n",
       "    <tr style=\"text-align: right;\">\n",
       "      <th></th>\n",
       "      <th>id</th>\n",
       "      <th>member_id</th>\n",
       "      <th>loan_amnt</th>\n",
       "      <th>funded_amnt</th>\n",
       "      <th>funded_amnt_inv</th>\n",
       "      <th>term</th>\n",
       "      <th>int_rate</th>\n",
       "      <th>installment</th>\n",
       "      <th>grade</th>\n",
       "      <th>sub_grade</th>\n",
       "      <th>...</th>\n",
       "      <th>num_tl_90g_dpd_24m</th>\n",
       "      <th>num_tl_op_past_12m</th>\n",
       "      <th>pct_tl_nvr_dlq</th>\n",
       "      <th>percent_bc_gt_75</th>\n",
       "      <th>pub_rec_bankruptcies</th>\n",
       "      <th>tax_liens</th>\n",
       "      <th>tot_hi_cred_lim</th>\n",
       "      <th>total_bal_ex_mort</th>\n",
       "      <th>total_bc_limit</th>\n",
       "      <th>total_il_high_credit_limit</th>\n",
       "    </tr>\n",
       "  </thead>\n",
       "  <tbody>\n",
       "    <tr>\n",
       "      <th>0</th>\n",
       "      <td>1077501</td>\n",
       "      <td>1296599</td>\n",
       "      <td>5000</td>\n",
       "      <td>5000</td>\n",
       "      <td>4975.0</td>\n",
       "      <td>36 months</td>\n",
       "      <td>10.65%</td>\n",
       "      <td>162.87</td>\n",
       "      <td>B</td>\n",
       "      <td>B2</td>\n",
       "      <td>...</td>\n",
       "      <td>NaN</td>\n",
       "      <td>NaN</td>\n",
       "      <td>NaN</td>\n",
       "      <td>NaN</td>\n",
       "      <td>0.0</td>\n",
       "      <td>0.0</td>\n",
       "      <td>NaN</td>\n",
       "      <td>NaN</td>\n",
       "      <td>NaN</td>\n",
       "      <td>NaN</td>\n",
       "    </tr>\n",
       "    <tr>\n",
       "      <th>1</th>\n",
       "      <td>1077430</td>\n",
       "      <td>1314167</td>\n",
       "      <td>2500</td>\n",
       "      <td>2500</td>\n",
       "      <td>2500.0</td>\n",
       "      <td>60 months</td>\n",
       "      <td>15.27%</td>\n",
       "      <td>59.83</td>\n",
       "      <td>C</td>\n",
       "      <td>C4</td>\n",
       "      <td>...</td>\n",
       "      <td>NaN</td>\n",
       "      <td>NaN</td>\n",
       "      <td>NaN</td>\n",
       "      <td>NaN</td>\n",
       "      <td>0.0</td>\n",
       "      <td>0.0</td>\n",
       "      <td>NaN</td>\n",
       "      <td>NaN</td>\n",
       "      <td>NaN</td>\n",
       "      <td>NaN</td>\n",
       "    </tr>\n",
       "    <tr>\n",
       "      <th>2</th>\n",
       "      <td>1077175</td>\n",
       "      <td>1313524</td>\n",
       "      <td>2400</td>\n",
       "      <td>2400</td>\n",
       "      <td>2400.0</td>\n",
       "      <td>36 months</td>\n",
       "      <td>15.96%</td>\n",
       "      <td>84.33</td>\n",
       "      <td>C</td>\n",
       "      <td>C5</td>\n",
       "      <td>...</td>\n",
       "      <td>NaN</td>\n",
       "      <td>NaN</td>\n",
       "      <td>NaN</td>\n",
       "      <td>NaN</td>\n",
       "      <td>0.0</td>\n",
       "      <td>0.0</td>\n",
       "      <td>NaN</td>\n",
       "      <td>NaN</td>\n",
       "      <td>NaN</td>\n",
       "      <td>NaN</td>\n",
       "    </tr>\n",
       "    <tr>\n",
       "      <th>3</th>\n",
       "      <td>1076863</td>\n",
       "      <td>1277178</td>\n",
       "      <td>10000</td>\n",
       "      <td>10000</td>\n",
       "      <td>10000.0</td>\n",
       "      <td>36 months</td>\n",
       "      <td>13.49%</td>\n",
       "      <td>339.31</td>\n",
       "      <td>C</td>\n",
       "      <td>C1</td>\n",
       "      <td>...</td>\n",
       "      <td>NaN</td>\n",
       "      <td>NaN</td>\n",
       "      <td>NaN</td>\n",
       "      <td>NaN</td>\n",
       "      <td>0.0</td>\n",
       "      <td>0.0</td>\n",
       "      <td>NaN</td>\n",
       "      <td>NaN</td>\n",
       "      <td>NaN</td>\n",
       "      <td>NaN</td>\n",
       "    </tr>\n",
       "    <tr>\n",
       "      <th>4</th>\n",
       "      <td>1075358</td>\n",
       "      <td>1311748</td>\n",
       "      <td>3000</td>\n",
       "      <td>3000</td>\n",
       "      <td>3000.0</td>\n",
       "      <td>60 months</td>\n",
       "      <td>12.69%</td>\n",
       "      <td>67.79</td>\n",
       "      <td>B</td>\n",
       "      <td>B5</td>\n",
       "      <td>...</td>\n",
       "      <td>NaN</td>\n",
       "      <td>NaN</td>\n",
       "      <td>NaN</td>\n",
       "      <td>NaN</td>\n",
       "      <td>0.0</td>\n",
       "      <td>0.0</td>\n",
       "      <td>NaN</td>\n",
       "      <td>NaN</td>\n",
       "      <td>NaN</td>\n",
       "      <td>NaN</td>\n",
       "    </tr>\n",
       "  </tbody>\n",
       "</table>\n",
       "<p>5 rows × 111 columns</p>\n",
       "</div>"
      ],
      "text/plain": [
       "        id  member_id  loan_amnt  funded_amnt  funded_amnt_inv        term  \\\n",
       "0  1077501    1296599       5000         5000           4975.0   36 months   \n",
       "1  1077430    1314167       2500         2500           2500.0   60 months   \n",
       "2  1077175    1313524       2400         2400           2400.0   36 months   \n",
       "3  1076863    1277178      10000        10000          10000.0   36 months   \n",
       "4  1075358    1311748       3000         3000           3000.0   60 months   \n",
       "\n",
       "  int_rate  installment grade sub_grade  ... num_tl_90g_dpd_24m  \\\n",
       "0   10.65%       162.87     B        B2  ...                NaN   \n",
       "1   15.27%        59.83     C        C4  ...                NaN   \n",
       "2   15.96%        84.33     C        C5  ...                NaN   \n",
       "3   13.49%       339.31     C        C1  ...                NaN   \n",
       "4   12.69%        67.79     B        B5  ...                NaN   \n",
       "\n",
       "  num_tl_op_past_12m pct_tl_nvr_dlq  percent_bc_gt_75 pub_rec_bankruptcies  \\\n",
       "0                NaN            NaN               NaN                  0.0   \n",
       "1                NaN            NaN               NaN                  0.0   \n",
       "2                NaN            NaN               NaN                  0.0   \n",
       "3                NaN            NaN               NaN                  0.0   \n",
       "4                NaN            NaN               NaN                  0.0   \n",
       "\n",
       "  tax_liens tot_hi_cred_lim total_bal_ex_mort total_bc_limit  \\\n",
       "0       0.0             NaN               NaN            NaN   \n",
       "1       0.0             NaN               NaN            NaN   \n",
       "2       0.0             NaN               NaN            NaN   \n",
       "3       0.0             NaN               NaN            NaN   \n",
       "4       0.0             NaN               NaN            NaN   \n",
       "\n",
       "  total_il_high_credit_limit  \n",
       "0                        NaN  \n",
       "1                        NaN  \n",
       "2                        NaN  \n",
       "3                        NaN  \n",
       "4                        NaN  \n",
       "\n",
       "[5 rows x 111 columns]"
      ]
     },
     "execution_count": 3,
     "metadata": {},
     "output_type": "execute_result"
    }
   ],
   "source": [
    "df.head()"
   ]
  },
  {
   "cell_type": "markdown",
   "id": "7e729497",
   "metadata": {},
   "source": [
    "4. **Finding the shape of this dataset**"
   ]
  },
  {
   "cell_type": "code",
   "execution_count": 4,
   "id": "c27f59d1",
   "metadata": {},
   "outputs": [
    {
     "data": {
      "text/plain": [
       "(39717, 111)"
      ]
     },
     "execution_count": 4,
     "metadata": {},
     "output_type": "execute_result"
    }
   ],
   "source": [
    "df.shape"
   ]
  },
  {
   "cell_type": "markdown",
   "id": "517f3223",
   "metadata": {},
   "source": [
    "-  Once the data is loaded into the jupyter notebook we can start the data cleaning or data processing process in order to perform the Exploratory Data Analysis (EDA)."
   ]
  },
  {
   "cell_type": "markdown",
   "id": "04734aab",
   "metadata": {},
   "source": [
    "### `Performing Data Cleaning for this Dataset`"
   ]
  },
  {
   "cell_type": "markdown",
   "id": "aaeb13fe",
   "metadata": {},
   "source": [
    "-  Dealing with missing values"
   ]
  },
  {
   "cell_type": "markdown",
   "id": "5345c040",
   "metadata": {},
   "source": [
    "6. **Getting the list of null values in all columns for this dataset**"
   ]
  },
  {
   "cell_type": "code",
   "execution_count": 5,
   "id": "971357e4",
   "metadata": {},
   "outputs": [
    {
     "data": {
      "text/plain": [
       "verification_status_joint    39717\n",
       "annual_inc_joint             39717\n",
       "mo_sin_old_rev_tl_op         39717\n",
       "mo_sin_old_il_acct           39717\n",
       "bc_util                      39717\n",
       "bc_open_to_buy               39717\n",
       "avg_cur_bal                  39717\n",
       "acc_open_past_24mths         39717\n",
       "inq_last_12m                 39717\n",
       "total_cu_tl                  39717\n",
       "inq_fi                       39717\n",
       "total_rev_hi_lim             39717\n",
       "all_util                     39717\n",
       "max_bal_bc                   39717\n",
       "open_rv_24m                  39717\n",
       "open_rv_12m                  39717\n",
       "il_util                      39717\n",
       "total_bal_il                 39717\n",
       "mths_since_rcnt_il           39717\n",
       "open_il_24m                  39717\n",
       "dtype: int64"
      ]
     },
     "execution_count": 5,
     "metadata": {},
     "output_type": "execute_result"
    }
   ],
   "source": [
    "data_clean = df.isnull().sum().sort_values(ascending=False)\n",
    "data_clean.head(20)"
   ]
  },
  {
   "cell_type": "markdown",
   "id": "b1a80bf1",
   "metadata": {},
   "source": [
    "7. **Column shape of the dataset before cleaning**"
   ]
  },
  {
   "cell_type": "code",
   "execution_count": 6,
   "id": "ea442e2d",
   "metadata": {},
   "outputs": [
    {
     "data": {
      "text/plain": [
       "(111,)"
      ]
     },
     "execution_count": 6,
     "metadata": {},
     "output_type": "execute_result"
    }
   ],
   "source": [
    "data_clean.shape"
   ]
  },
  {
   "cell_type": "markdown",
   "id": "d0d00c01",
   "metadata": {},
   "source": [
    "8. **Dropping the columns which are having all null values**"
   ]
  },
  {
   "cell_type": "code",
   "execution_count": 7,
   "id": "794dbeb6",
   "metadata": {},
   "outputs": [],
   "source": [
    "df = df.dropna(axis=1,how='all')"
   ]
  },
  {
   "cell_type": "markdown",
   "id": "09cd4f7f",
   "metadata": {},
   "source": [
    "9. **Once again checking the columns with null values**"
   ]
  },
  {
   "cell_type": "code",
   "execution_count": 8,
   "id": "c25f6c1d",
   "metadata": {},
   "outputs": [
    {
     "data": {
      "text/plain": [
       "next_pymnt_d                  38577\n",
       "mths_since_last_record        36931\n",
       "mths_since_last_delinq        25682\n",
       "desc                          12940\n",
       "emp_title                      2459\n",
       "emp_length                     1075\n",
       "pub_rec_bankruptcies            697\n",
       "last_pymnt_d                     71\n",
       "chargeoff_within_12_mths         56\n",
       "collections_12_mths_ex_med       56\n",
       "revol_util                       50\n",
       "tax_liens                        39\n",
       "title                            11\n",
       "last_credit_pull_d                2\n",
       "home_ownership                    0\n",
       "dtype: int64"
      ]
     },
     "execution_count": 8,
     "metadata": {},
     "output_type": "execute_result"
    }
   ],
   "source": [
    "data_clean=df.isnull().sum().sort_values(ascending=False)\n",
    "data_clean.head(15)"
   ]
  },
  {
   "cell_type": "markdown",
   "id": "a3504d40",
   "metadata": {},
   "source": [
    "10. **Column shape of the dataset after cleaning**"
   ]
  },
  {
   "cell_type": "code",
   "execution_count": 9,
   "id": "2c214008",
   "metadata": {},
   "outputs": [
    {
     "data": {
      "text/plain": [
       "(57,)"
      ]
     },
     "execution_count": 9,
     "metadata": {},
     "output_type": "execute_result"
    }
   ],
   "source": [
    "data_clean.shape"
   ]
  },
  {
   "cell_type": "markdown",
   "id": "dae39b04",
   "metadata": {},
   "source": [
    "-  **Dropping the columns which are having more number of null values.**"
   ]
  },
  {
   "cell_type": "markdown",
   "id": "21458e57",
   "metadata": {},
   "source": [
    "11.  **Removing the columns i.e,** <br>'next_pymnt_d', <br>'desc'"
   ]
  },
  {
   "cell_type": "markdown",
   "id": "a738c49a",
   "metadata": {},
   "source": [
    "##### desc might be help if nlp is involved but for EDA, it isn't applicable to use this"
   ]
  },
  {
   "cell_type": "code",
   "execution_count": 10,
   "id": "97be1c28",
   "metadata": {},
   "outputs": [],
   "source": [
    "df = df.drop(labels=['next_pymnt_d','desc'], axis=1)"
   ]
  },
  {
   "cell_type": "markdown",
   "id": "a26b4a98",
   "metadata": {},
   "source": [
    "12. **Checking the updated shape of the Dataset** (57 - 4 = 53)"
   ]
  },
  {
   "cell_type": "code",
   "execution_count": 11,
   "id": "0e1f45e5",
   "metadata": {},
   "outputs": [
    {
     "data": {
      "text/plain": [
       "(39717, 55)"
      ]
     },
     "execution_count": 11,
     "metadata": {},
     "output_type": "execute_result"
    }
   ],
   "source": [
    "df.shape"
   ]
  },
  {
   "cell_type": "markdown",
   "id": "029851a3",
   "metadata": {},
   "source": [
    "13. **Checking the null values for the remaining columns**"
   ]
  },
  {
   "cell_type": "code",
   "execution_count": 12,
   "id": "b9d44a8f",
   "metadata": {},
   "outputs": [
    {
     "data": {
      "text/plain": [
       "mths_since_last_record        36931\n",
       "mths_since_last_delinq        25682\n",
       "emp_title                      2459\n",
       "emp_length                     1075\n",
       "pub_rec_bankruptcies            697\n",
       "last_pymnt_d                     71\n",
       "chargeoff_within_12_mths         56\n",
       "collections_12_mths_ex_med       56\n",
       "revol_util                       50\n",
       "tax_liens                        39\n",
       "title                            11\n",
       "last_credit_pull_d                2\n",
       "sub_grade                         0\n",
       "collection_recovery_fee           0\n",
       "out_prncp                         0\n",
       "out_prncp_inv                     0\n",
       "total_pymnt                       0\n",
       "total_pymnt_inv                   0\n",
       "total_rec_prncp                   0\n",
       "total_rec_int                     0\n",
       "dtype: int64"
      ]
     },
     "execution_count": 12,
     "metadata": {},
     "output_type": "execute_result"
    }
   ],
   "source": [
    "data_clean=df.isnull().sum().sort_values(ascending=False)\n",
    "data_clean.head(20)"
   ]
  },
  {
   "cell_type": "markdown",
   "id": "32361809",
   "metadata": {},
   "source": [
    "14.  **Checking the value counts for the following columns** <br>'emp_title', <br>'emp_length', <br>'pub_rec_bankruptcies', <br>'last_pymnt_d', <br>'collections_12_mths_ex_med', <br>'chargeoff_within_12_mths', <br>'revol_util', <br>'tax_liens', <br>'title', <br>'last_credit_pull_d'"
   ]
  },
  {
   "cell_type": "code",
   "execution_count": 13,
   "id": "1c636263",
   "metadata": {},
   "outputs": [
    {
     "data": {
      "text/plain": [
       "US Army                              134\n",
       "Bank of America                      109\n",
       "IBM                                   66\n",
       "AT&T                                  59\n",
       "Kaiser Permanente                     56\n",
       "                                    ... \n",
       "Community College of Philadelphia      1\n",
       "AMEC                                   1\n",
       "lee county sheriff                     1\n",
       "Bacon County Board of Education        1\n",
       "Evergreen Center                       1\n",
       "Name: emp_title, Length: 28820, dtype: int64"
      ]
     },
     "execution_count": 13,
     "metadata": {},
     "output_type": "execute_result"
    }
   ],
   "source": [
    "df['emp_title'].value_counts()"
   ]
  },
  {
   "cell_type": "code",
   "execution_count": 14,
   "id": "fb6cad91",
   "metadata": {},
   "outputs": [
    {
     "data": {
      "text/plain": [
       "10+ years    8879\n",
       "< 1 year     4583\n",
       "2 years      4388\n",
       "3 years      4095\n",
       "4 years      3436\n",
       "5 years      3282\n",
       "1 year       3240\n",
       "6 years      2229\n",
       "7 years      1773\n",
       "8 years      1479\n",
       "9 years      1258\n",
       "Name: emp_length, dtype: int64"
      ]
     },
     "execution_count": 14,
     "metadata": {},
     "output_type": "execute_result"
    }
   ],
   "source": [
    "df['emp_length'].value_counts()"
   ]
  },
  {
   "cell_type": "code",
   "execution_count": 15,
   "id": "26191bd8",
   "metadata": {},
   "outputs": [
    {
     "data": {
      "text/plain": [
       "0.0    37339\n",
       "1.0     1674\n",
       "2.0        7\n",
       "Name: pub_rec_bankruptcies, dtype: int64"
      ]
     },
     "execution_count": 15,
     "metadata": {},
     "output_type": "execute_result"
    }
   ],
   "source": [
    "df['pub_rec_bankruptcies'].value_counts()"
   ]
  },
  {
   "cell_type": "code",
   "execution_count": 16,
   "id": "96a28bb4",
   "metadata": {},
   "outputs": [
    {
     "data": {
      "text/plain": [
       "May-16    1256\n",
       "Mar-13    1026\n",
       "Dec-14     945\n",
       "May-13     907\n",
       "Feb-13     869\n",
       "          ... \n",
       "Jun-08      10\n",
       "Nov-08      10\n",
       "Mar-08       5\n",
       "Jan-08       4\n",
       "Feb-08       1\n",
       "Name: last_pymnt_d, Length: 101, dtype: int64"
      ]
     },
     "execution_count": 16,
     "metadata": {},
     "output_type": "execute_result"
    }
   ],
   "source": [
    "df['last_pymnt_d'].value_counts()"
   ]
  },
  {
   "cell_type": "code",
   "execution_count": 17,
   "id": "6be00660",
   "metadata": {},
   "outputs": [
    {
     "data": {
      "text/plain": [
       "0.0    39661\n",
       "Name: chargeoff_within_12_mths, dtype: int64"
      ]
     },
     "execution_count": 17,
     "metadata": {},
     "output_type": "execute_result"
    }
   ],
   "source": [
    "df['chargeoff_within_12_mths'].value_counts()"
   ]
  },
  {
   "cell_type": "code",
   "execution_count": 18,
   "id": "33633c9c",
   "metadata": {},
   "outputs": [
    {
     "data": {
      "text/plain": [
       "0.0    39661\n",
       "Name: collections_12_mths_ex_med, dtype: int64"
      ]
     },
     "execution_count": 18,
     "metadata": {},
     "output_type": "execute_result"
    }
   ],
   "source": [
    "df['collections_12_mths_ex_med'].value_counts()"
   ]
  },
  {
   "cell_type": "code",
   "execution_count": 19,
   "id": "d78904aa",
   "metadata": {},
   "outputs": [
    {
     "data": {
      "text/plain": [
       "0%        977\n",
       "0.20%      63\n",
       "63%        62\n",
       "40.70%     58\n",
       "66.70%     58\n",
       "         ... \n",
       "25.74%      1\n",
       "47.36%      1\n",
       "24.65%      1\n",
       "10.61%      1\n",
       "7.28%       1\n",
       "Name: revol_util, Length: 1089, dtype: int64"
      ]
     },
     "execution_count": 19,
     "metadata": {},
     "output_type": "execute_result"
    }
   ],
   "source": [
    "df['revol_util'].value_counts()"
   ]
  },
  {
   "cell_type": "code",
   "execution_count": 20,
   "id": "92554246",
   "metadata": {},
   "outputs": [
    {
     "data": {
      "text/plain": [
       "0.0    39678\n",
       "Name: tax_liens, dtype: int64"
      ]
     },
     "execution_count": 20,
     "metadata": {},
     "output_type": "execute_result"
    }
   ],
   "source": [
    "df['tax_liens'].value_counts()"
   ]
  },
  {
   "cell_type": "code",
   "execution_count": 21,
   "id": "b99d357e",
   "metadata": {},
   "outputs": [
    {
     "data": {
      "text/plain": [
       "Debt Consolidation                  2184\n",
       "Debt Consolidation Loan             1729\n",
       "Personal Loan                        659\n",
       "Consolidation                        517\n",
       "debt consolidation                   505\n",
       "                                    ... \n",
       "your rate is better than my rate       1\n",
       "Concession Trailer                     1\n",
       "gregs                                  1\n",
       "EZover                                 1\n",
       "JAL Loan                               1\n",
       "Name: title, Length: 19615, dtype: int64"
      ]
     },
     "execution_count": 21,
     "metadata": {},
     "output_type": "execute_result"
    }
   ],
   "source": [
    "df['title'].value_counts()"
   ]
  },
  {
   "cell_type": "code",
   "execution_count": 22,
   "id": "2bd286b6",
   "metadata": {},
   "outputs": [
    {
     "data": {
      "text/plain": [
       "May-16    10308\n",
       "Apr-16     2547\n",
       "Mar-16     1123\n",
       "Feb-13      843\n",
       "Feb-16      736\n",
       "          ...  \n",
       "May-08        1\n",
       "Jun-08        1\n",
       "Jul-08        1\n",
       "May-07        1\n",
       "Jul-07        1\n",
       "Name: last_credit_pull_d, Length: 106, dtype: int64"
      ]
     },
     "execution_count": 22,
     "metadata": {},
     "output_type": "execute_result"
    }
   ],
   "source": [
    "df['last_credit_pull_d'].value_counts()"
   ]
  },
  {
   "cell_type": "markdown",
   "id": "8bd08dd4",
   "metadata": {},
   "source": [
    "15. **Getting the list of rows from the following columns which are having not null values** <br>'emp_title', <br>'emp_length', <br>'pub_rec_bankruptcies', <br>'last_pymnt_d', <br>'collections_12_mths_ex_med', <br>'chargeoff_within_12_mths', <br>'revol_util', <br>'tax_liens', <br>'title', <br>'last_credit_pull_d'"
   ]
  },
  {
   "cell_type": "code",
   "execution_count": 23,
   "id": "aec209e0",
   "metadata": {},
   "outputs": [],
   "source": [
    "df = df[df['emp_title'].notna()] "
   ]
  },
  {
   "cell_type": "code",
   "execution_count": 24,
   "id": "36ac9df7",
   "metadata": {},
   "outputs": [],
   "source": [
    "df = df[df['emp_length'].notna()] "
   ]
  },
  {
   "cell_type": "code",
   "execution_count": 25,
   "id": "68517fb6",
   "metadata": {},
   "outputs": [],
   "source": [
    "df = df[df['pub_rec_bankruptcies'].notna()] "
   ]
  },
  {
   "cell_type": "code",
   "execution_count": 26,
   "id": "4399305f",
   "metadata": {},
   "outputs": [],
   "source": [
    "df = df[df['last_pymnt_d'].notna()] "
   ]
  },
  {
   "cell_type": "code",
   "execution_count": 27,
   "id": "e8c73699",
   "metadata": {},
   "outputs": [],
   "source": [
    "df = df[df['chargeoff_within_12_mths'].notna()] "
   ]
  },
  {
   "cell_type": "code",
   "execution_count": 28,
   "id": "421c60ed",
   "metadata": {},
   "outputs": [],
   "source": [
    "df = df[df['collections_12_mths_ex_med'].notna()] "
   ]
  },
  {
   "cell_type": "code",
   "execution_count": 29,
   "id": "d8d1215a",
   "metadata": {},
   "outputs": [],
   "source": [
    "df = df[df['revol_util'].notna()] "
   ]
  },
  {
   "cell_type": "code",
   "execution_count": 30,
   "id": "e0512c8c",
   "metadata": {},
   "outputs": [],
   "source": [
    "df = df[df['tax_liens'].notna()] "
   ]
  },
  {
   "cell_type": "code",
   "execution_count": 31,
   "id": "472836e1",
   "metadata": {},
   "outputs": [],
   "source": [
    "df = df[df['title'].notna()] "
   ]
  },
  {
   "cell_type": "code",
   "execution_count": 32,
   "id": "dab1609b",
   "metadata": {},
   "outputs": [],
   "source": [
    "df = df[df['last_credit_pull_d'].notna()] "
   ]
  },
  {
   "cell_type": "markdown",
   "id": "a230160b",
   "metadata": {},
   "source": [
    "16. **Updated shape of the Dataset**\n"
   ]
  },
  {
   "cell_type": "code",
   "execution_count": 33,
   "id": "edface2a",
   "metadata": {},
   "outputs": [
    {
     "data": {
      "text/plain": [
       "(36431, 55)"
      ]
     },
     "execution_count": 33,
     "metadata": {},
     "output_type": "execute_result"
    }
   ],
   "source": [
    "df.shape "
   ]
  },
  {
   "cell_type": "markdown",
   "id": "81ebd07a",
   "metadata": {},
   "source": [
    "17. **Checking any null value columns are present in the dataset**"
   ]
  },
  {
   "cell_type": "code",
   "execution_count": 34,
   "id": "d0599f44",
   "metadata": {},
   "outputs": [
    {
     "data": {
      "text/plain": [
       "mths_since_last_record        34543\n",
       "mths_since_last_delinq        23934\n",
       "total_rec_late_fee                0\n",
       "pub_rec                           0\n",
       "revol_bal                         0\n",
       "revol_util                        0\n",
       "total_acc                         0\n",
       "initial_list_status               0\n",
       "out_prncp                         0\n",
       "out_prncp_inv                     0\n",
       "total_pymnt                       0\n",
       "total_pymnt_inv                   0\n",
       "total_rec_prncp                   0\n",
       "total_rec_int                     0\n",
       "recoveries                        0\n",
       "collection_recovery_fee           0\n",
       "last_pymnt_d                      0\n",
       "last_pymnt_amnt                   0\n",
       "last_credit_pull_d                0\n",
       "collections_12_mths_ex_med        0\n",
       "dtype: int64"
      ]
     },
     "execution_count": 34,
     "metadata": {},
     "output_type": "execute_result"
    }
   ],
   "source": [
    "data_clean=df.isnull().sum().sort_values(ascending=False)\n",
    "data_clean.head(20)"
   ]
  },
  {
   "cell_type": "markdown",
   "id": "913ccaac",
   "metadata": {},
   "source": [
    "-  **Once we completed the Data Cleaning step, Now it's time for to perform Exploratory Data Analysis**"
   ]
  },
  {
   "cell_type": "markdown",
   "id": "6fad2954",
   "metadata": {},
   "source": [
    "## Exploratory Data Analysis"
   ]
  },
  {
   "cell_type": "markdown",
   "id": "405b6f90",
   "metadata": {},
   "source": [
    "18. **Listing out the Final columns in the dataset after processing**"
   ]
  },
  {
   "cell_type": "code",
   "execution_count": 35,
   "id": "9b57fc22",
   "metadata": {},
   "outputs": [
    {
     "data": {
      "text/plain": [
       "Index(['id', 'member_id', 'loan_amnt', 'funded_amnt', 'funded_amnt_inv',\n",
       "       'term', 'int_rate', 'installment', 'grade', 'sub_grade', 'emp_title',\n",
       "       'emp_length', 'home_ownership', 'annual_inc', 'verification_status',\n",
       "       'issue_d', 'loan_status', 'pymnt_plan', 'url', 'purpose', 'title',\n",
       "       'zip_code', 'addr_state', 'dti', 'delinq_2yrs', 'earliest_cr_line',\n",
       "       'inq_last_6mths', 'mths_since_last_delinq', 'mths_since_last_record',\n",
       "       'open_acc', 'pub_rec', 'revol_bal', 'revol_util', 'total_acc',\n",
       "       'initial_list_status', 'out_prncp', 'out_prncp_inv', 'total_pymnt',\n",
       "       'total_pymnt_inv', 'total_rec_prncp', 'total_rec_int',\n",
       "       'total_rec_late_fee', 'recoveries', 'collection_recovery_fee',\n",
       "       'last_pymnt_d', 'last_pymnt_amnt', 'last_credit_pull_d',\n",
       "       'collections_12_mths_ex_med', 'policy_code', 'application_type',\n",
       "       'acc_now_delinq', 'chargeoff_within_12_mths', 'delinq_amnt',\n",
       "       'pub_rec_bankruptcies', 'tax_liens'],\n",
       "      dtype='object')"
      ]
     },
     "execution_count": 35,
     "metadata": {},
     "output_type": "execute_result"
    }
   ],
   "source": [
    "df.columns"
   ]
  },
  {
   "cell_type": "markdown",
   "id": "3689df68",
   "metadata": {},
   "source": [
    "-   Columns that are relevant regarding deliquency\n",
    "<br> 1. loan_status\n",
    "<br> 2. delinq_2yrs\n",
    "<br> 3. mths_since_last_delinq\n",
    "<br> 4. delinq_amnt (all zeros)\n",
    "<br> 5. acc_now_delinq (all zeros)\n",
    "<br> 6. mths_since_recent_bc_dlq (NANs)\n",
    "<br> 7. mths_since_recent_revol_delinq (NANs)\n",
    "<br> 8. verification_status"
   ]
  },
  {
   "cell_type": "markdown",
   "id": "580e2fd9",
   "metadata": {},
   "source": [
    "20. **Checking the value counts for 'loan_status' column**"
   ]
  },
  {
   "cell_type": "code",
   "execution_count": 36,
   "id": "04a3c14a",
   "metadata": {},
   "outputs": [
    {
     "data": {
      "text/plain": [
       "Fully Paid     30423\n",
       "Charged Off     4942\n",
       "Current         1066\n",
       "Name: loan_status, dtype: int64"
      ]
     },
     "execution_count": 36,
     "metadata": {},
     "output_type": "execute_result"
    }
   ],
   "source": [
    "df['loan_status'].value_counts()"
   ]
  },
  {
   "cell_type": "markdown",
   "id": "f19ca627",
   "metadata": {},
   "source": [
    "21. **Assigning the charged off customers to the \"default\" variable**"
   ]
  },
  {
   "cell_type": "code",
   "execution_count": 37,
   "id": "abce6ae3",
   "metadata": {},
   "outputs": [],
   "source": [
    "default = df[df['loan_status']=='Charged Off']"
   ]
  },
  {
   "cell_type": "markdown",
   "id": "58200bb4",
   "metadata": {},
   "source": [
    "22. **Checking the top 5 rows of the \"default\" variable**"
   ]
  },
  {
   "cell_type": "code",
   "execution_count": 38,
   "id": "ec8ee4cc",
   "metadata": {
    "scrolled": true
   },
   "outputs": [
    {
     "data": {
      "text/html": [
       "<div>\n",
       "<style scoped>\n",
       "    .dataframe tbody tr th:only-of-type {\n",
       "        vertical-align: middle;\n",
       "    }\n",
       "\n",
       "    .dataframe tbody tr th {\n",
       "        vertical-align: top;\n",
       "    }\n",
       "\n",
       "    .dataframe thead th {\n",
       "        text-align: right;\n",
       "    }\n",
       "</style>\n",
       "<table border=\"1\" class=\"dataframe\">\n",
       "  <thead>\n",
       "    <tr style=\"text-align: right;\">\n",
       "      <th></th>\n",
       "      <th>id</th>\n",
       "      <th>member_id</th>\n",
       "      <th>loan_amnt</th>\n",
       "      <th>funded_amnt</th>\n",
       "      <th>funded_amnt_inv</th>\n",
       "      <th>term</th>\n",
       "      <th>int_rate</th>\n",
       "      <th>installment</th>\n",
       "      <th>grade</th>\n",
       "      <th>sub_grade</th>\n",
       "      <th>...</th>\n",
       "      <th>last_pymnt_amnt</th>\n",
       "      <th>last_credit_pull_d</th>\n",
       "      <th>collections_12_mths_ex_med</th>\n",
       "      <th>policy_code</th>\n",
       "      <th>application_type</th>\n",
       "      <th>acc_now_delinq</th>\n",
       "      <th>chargeoff_within_12_mths</th>\n",
       "      <th>delinq_amnt</th>\n",
       "      <th>pub_rec_bankruptcies</th>\n",
       "      <th>tax_liens</th>\n",
       "    </tr>\n",
       "  </thead>\n",
       "  <tbody>\n",
       "    <tr>\n",
       "      <th>1</th>\n",
       "      <td>1077430</td>\n",
       "      <td>1314167</td>\n",
       "      <td>2500</td>\n",
       "      <td>2500</td>\n",
       "      <td>2500.0</td>\n",
       "      <td>60 months</td>\n",
       "      <td>15.27%</td>\n",
       "      <td>59.83</td>\n",
       "      <td>C</td>\n",
       "      <td>C4</td>\n",
       "      <td>...</td>\n",
       "      <td>119.66</td>\n",
       "      <td>Sep-13</td>\n",
       "      <td>0.0</td>\n",
       "      <td>1</td>\n",
       "      <td>INDIVIDUAL</td>\n",
       "      <td>0</td>\n",
       "      <td>0.0</td>\n",
       "      <td>0</td>\n",
       "      <td>0.0</td>\n",
       "      <td>0.0</td>\n",
       "    </tr>\n",
       "    <tr>\n",
       "      <th>9</th>\n",
       "      <td>1071570</td>\n",
       "      <td>1306721</td>\n",
       "      <td>5375</td>\n",
       "      <td>5375</td>\n",
       "      <td>5350.0</td>\n",
       "      <td>60 months</td>\n",
       "      <td>12.69%</td>\n",
       "      <td>121.45</td>\n",
       "      <td>B</td>\n",
       "      <td>B5</td>\n",
       "      <td>...</td>\n",
       "      <td>121.45</td>\n",
       "      <td>Mar-13</td>\n",
       "      <td>0.0</td>\n",
       "      <td>1</td>\n",
       "      <td>INDIVIDUAL</td>\n",
       "      <td>0</td>\n",
       "      <td>0.0</td>\n",
       "      <td>0</td>\n",
       "      <td>0.0</td>\n",
       "      <td>0.0</td>\n",
       "    </tr>\n",
       "    <tr>\n",
       "      <th>12</th>\n",
       "      <td>1064687</td>\n",
       "      <td>1298717</td>\n",
       "      <td>9000</td>\n",
       "      <td>9000</td>\n",
       "      <td>9000.0</td>\n",
       "      <td>36 months</td>\n",
       "      <td>13.49%</td>\n",
       "      <td>305.38</td>\n",
       "      <td>C</td>\n",
       "      <td>C1</td>\n",
       "      <td>...</td>\n",
       "      <td>305.38</td>\n",
       "      <td>Nov-12</td>\n",
       "      <td>0.0</td>\n",
       "      <td>1</td>\n",
       "      <td>INDIVIDUAL</td>\n",
       "      <td>0</td>\n",
       "      <td>0.0</td>\n",
       "      <td>0</td>\n",
       "      <td>0.0</td>\n",
       "      <td>0.0</td>\n",
       "    </tr>\n",
       "    <tr>\n",
       "      <th>14</th>\n",
       "      <td>1069057</td>\n",
       "      <td>1303503</td>\n",
       "      <td>10000</td>\n",
       "      <td>10000</td>\n",
       "      <td>10000.0</td>\n",
       "      <td>36 months</td>\n",
       "      <td>10.65%</td>\n",
       "      <td>325.74</td>\n",
       "      <td>B</td>\n",
       "      <td>B2</td>\n",
       "      <td>...</td>\n",
       "      <td>325.74</td>\n",
       "      <td>Mar-14</td>\n",
       "      <td>0.0</td>\n",
       "      <td>1</td>\n",
       "      <td>INDIVIDUAL</td>\n",
       "      <td>0</td>\n",
       "      <td>0.0</td>\n",
       "      <td>0</td>\n",
       "      <td>0.0</td>\n",
       "      <td>0.0</td>\n",
       "    </tr>\n",
       "    <tr>\n",
       "      <th>21</th>\n",
       "      <td>1039153</td>\n",
       "      <td>1269083</td>\n",
       "      <td>21000</td>\n",
       "      <td>21000</td>\n",
       "      <td>21000.0</td>\n",
       "      <td>36 months</td>\n",
       "      <td>12.42%</td>\n",
       "      <td>701.73</td>\n",
       "      <td>B</td>\n",
       "      <td>B4</td>\n",
       "      <td>...</td>\n",
       "      <td>701.73</td>\n",
       "      <td>May-16</td>\n",
       "      <td>0.0</td>\n",
       "      <td>1</td>\n",
       "      <td>INDIVIDUAL</td>\n",
       "      <td>0</td>\n",
       "      <td>0.0</td>\n",
       "      <td>0</td>\n",
       "      <td>0.0</td>\n",
       "      <td>0.0</td>\n",
       "    </tr>\n",
       "  </tbody>\n",
       "</table>\n",
       "<p>5 rows × 55 columns</p>\n",
       "</div>"
      ],
      "text/plain": [
       "         id  member_id  loan_amnt  funded_amnt  funded_amnt_inv        term  \\\n",
       "1   1077430    1314167       2500         2500           2500.0   60 months   \n",
       "9   1071570    1306721       5375         5375           5350.0   60 months   \n",
       "12  1064687    1298717       9000         9000           9000.0   36 months   \n",
       "14  1069057    1303503      10000        10000          10000.0   36 months   \n",
       "21  1039153    1269083      21000        21000          21000.0   36 months   \n",
       "\n",
       "   int_rate  installment grade sub_grade  ... last_pymnt_amnt  \\\n",
       "1    15.27%        59.83     C        C4  ...          119.66   \n",
       "9    12.69%       121.45     B        B5  ...          121.45   \n",
       "12   13.49%       305.38     C        C1  ...          305.38   \n",
       "14   10.65%       325.74     B        B2  ...          325.74   \n",
       "21   12.42%       701.73     B        B4  ...          701.73   \n",
       "\n",
       "   last_credit_pull_d collections_12_mths_ex_med  policy_code  \\\n",
       "1              Sep-13                        0.0            1   \n",
       "9              Mar-13                        0.0            1   \n",
       "12             Nov-12                        0.0            1   \n",
       "14             Mar-14                        0.0            1   \n",
       "21             May-16                        0.0            1   \n",
       "\n",
       "   application_type acc_now_delinq chargeoff_within_12_mths delinq_amnt  \\\n",
       "1        INDIVIDUAL              0                      0.0           0   \n",
       "9        INDIVIDUAL              0                      0.0           0   \n",
       "12       INDIVIDUAL              0                      0.0           0   \n",
       "14       INDIVIDUAL              0                      0.0           0   \n",
       "21       INDIVIDUAL              0                      0.0           0   \n",
       "\n",
       "   pub_rec_bankruptcies tax_liens  \n",
       "1                   0.0       0.0  \n",
       "9                   0.0       0.0  \n",
       "12                  0.0       0.0  \n",
       "14                  0.0       0.0  \n",
       "21                  0.0       0.0  \n",
       "\n",
       "[5 rows x 55 columns]"
      ]
     },
     "execution_count": 38,
     "metadata": {},
     "output_type": "execute_result"
    }
   ],
   "source": [
    "default.head()"
   ]
  },
  {
   "cell_type": "code",
   "execution_count": 39,
   "id": "2c3ae88d",
   "metadata": {},
   "outputs": [
    {
     "data": {
      "text/plain": [
       "(4942, 55)"
      ]
     },
     "execution_count": 39,
     "metadata": {},
     "output_type": "execute_result"
    }
   ],
   "source": [
    "default.shape"
   ]
  },
  {
   "cell_type": "markdown",
   "id": "9ba5f958",
   "metadata": {},
   "source": [
    "### Univariate Analysis"
   ]
  },
  {
   "cell_type": "markdown",
   "id": "2c2e722b",
   "metadata": {},
   "source": [
    "### `Defaulter's Loan profile`"
   ]
  },
  {
   "cell_type": "markdown",
   "id": "055d47af",
   "metadata": {},
   "source": [
    "23. **Plotting the Histogram for the 'loan_amnt' column**"
   ]
  },
  {
   "cell_type": "code",
   "execution_count": 40,
   "id": "177f2279",
   "metadata": {},
   "outputs": [
    {
     "data": {
      "text/plain": [
       "(array([ 736., 1010.,  879.,  613.,  538.,  461.,  196.,  273.,   85.,\n",
       "         151.]),\n",
       " array([ 1000.,  4400.,  7800., 11200., 14600., 18000., 21400., 24800.,\n",
       "        28200., 31600., 35000.]),\n",
       " <BarContainer object of 10 artists>)"
      ]
     },
     "execution_count": 40,
     "metadata": {},
     "output_type": "execute_result"
    },
    {
     "data": {
      "image/png": "[encoded data removed]",
      "text/plain": [
       "<Figure size 432x288 with 1 Axes>"
      ]
     },
     "metadata": {
      "needs_background": "light"
     },
     "output_type": "display_data"
    }
   ],
   "source": [
    "plt.hist(default['loan_amnt'])"
   ]
  },
  {
   "cell_type": "markdown",
   "id": "f64c17af",
   "metadata": {},
   "source": [
    "24. **Plotting the horizantal bar plot (barh) for the 'term' column**"
   ]
  },
  {
   "cell_type": "code",
   "execution_count": 41,
   "id": "070973c7",
   "metadata": {},
   "outputs": [
    {
     "data": {
      "text/plain": [
       "<AxesSubplot:>"
      ]
     },
     "execution_count": 41,
     "metadata": {},
     "output_type": "execute_result"
    },
    {
     "data": {
      "image/png": "[encoded data removed]",
      "text/plain": [
       "<Figure size 432x288 with 1 Axes>"
      ]
     },
     "metadata": {
      "needs_background": "light"
     },
     "output_type": "display_data"
    }
   ],
   "source": [
    "default['term'].value_counts().sort_values(ascending=True).plot.barh()"
   ]
  },
  {
   "cell_type": "markdown",
   "id": "6201e770",
   "metadata": {},
   "source": [
    "25. **Plotting the Histogram for the 'installment' column**"
   ]
  },
  {
   "cell_type": "code",
   "execution_count": 42,
   "id": "82490550",
   "metadata": {},
   "outputs": [
    {
     "data": {
      "text/plain": [
       "(array([ 948., 1351., 1152.,  673.,  380.,  194.,  176.,   48.,   12.,\n",
       "           8.]),\n",
       " array([  22.79,  151.03,  279.27,  407.51,  535.75,  663.99,  792.23,\n",
       "         920.47, 1048.71, 1176.95, 1305.19]),\n",
       " <BarContainer object of 10 artists>)"
      ]
     },
     "execution_count": 42,
     "metadata": {},
     "output_type": "execute_result"
    },
    {
     "data": {
      "image/png": "[encoded data removed]",
      "text/plain": [
       "<Figure size 432x288 with 1 Axes>"
      ]
     },
     "metadata": {
      "needs_background": "light"
     },
     "output_type": "display_data"
    }
   ],
   "source": [
    "plt.hist(default['installment'])"
   ]
  },
  {
   "cell_type": "markdown",
   "id": "8051b9e3",
   "metadata": {},
   "source": [
    "### `Borrower's profile`"
   ]
  },
  {
   "cell_type": "markdown",
   "id": "7b22b704",
   "metadata": {},
   "source": [
    "26. **Plotting the horizantal bar plot (barh) for the 'home_ownership' column**"
   ]
  },
  {
   "cell_type": "code",
   "execution_count": 43,
   "id": "b38b1dfe",
   "metadata": {},
   "outputs": [
    {
     "data": {
      "text/plain": [
       "<AxesSubplot:>"
      ]
     },
     "execution_count": 43,
     "metadata": {},
     "output_type": "execute_result"
    },
    {
     "data": {
      "image/png": "[encoded data removed]",
      "text/plain": [
       "<Figure size 432x288 with 1 Axes>"
      ]
     },
     "metadata": {
      "needs_background": "light"
     },
     "output_type": "display_data"
    }
   ],
   "source": [
    "default['home_ownership'].value_counts().sort_values(ascending=True).plot.barh()"
   ]
  },
  {
   "cell_type": "markdown",
   "id": "c52f0b52",
   "metadata": {},
   "source": [
    "27. **Plotting a Boxplot for the 'annual_inc' column**"
   ]
  },
  {
   "cell_type": "code",
   "execution_count": 44,
   "id": "adf6fd71",
   "metadata": {},
   "outputs": [
    {
     "data": {
      "text/plain": [
       "<AxesSubplot:>"
      ]
     },
     "execution_count": 44,
     "metadata": {},
     "output_type": "execute_result"
    },
    {
     "data": {
      "image/png": "[encoded data removed]",
      "text/plain": [
       "<Figure size 432x288 with 1 Axes>"
      ]
     },
     "metadata": {
      "needs_background": "light"
     },
     "output_type": "display_data"
    }
   ],
   "source": [
    "default['annual_inc'].plot.box()"
   ]
  },
  {
   "cell_type": "markdown",
   "id": "71f663d8",
   "metadata": {},
   "source": [
    "28. **Plotting a horizantal bar graph for the 'purpose' column**"
   ]
  },
  {
   "cell_type": "code",
   "execution_count": 45,
   "id": "9a10d359",
   "metadata": {},
   "outputs": [
    {
     "data": {
      "text/plain": [
       "<AxesSubplot:>"
      ]
     },
     "execution_count": 45,
     "metadata": {},
     "output_type": "execute_result"
    },
    {
     "data": {
      "image/png": "[encoded data removed]",
      "text/plain": [
       "<Figure size 432x288 with 1 Axes>"
      ]
     },
     "metadata": {
      "needs_background": "light"
     },
     "output_type": "display_data"
    }
   ],
   "source": [
    "default['purpose'].value_counts().sort_values(ascending=True).plot.barh()"
   ]
  },
  {
   "cell_type": "markdown",
   "id": "74d533b0",
   "metadata": {},
   "source": [
    "-  Borrowers' amount of credit lines"
   ]
  },
  {
   "cell_type": "markdown",
   "id": "bcaea5c6",
   "metadata": {},
   "source": [
    "29. **Plotting a histogram for 'total_acc' column**"
   ]
  },
  {
   "cell_type": "code",
   "execution_count": 46,
   "id": "2ddb2c8b",
   "metadata": {},
   "outputs": [
    {
     "data": {
      "text/plain": [
       "(array([ 516., 1182., 1170.,  912.,  531.,  368.,  173.,   47.,   41.,\n",
       "           2.]),\n",
       " array([ 2. ,  8.8, 15.6, 22.4, 29.2, 36. , 42.8, 49.6, 56.4, 63.2, 70. ]),\n",
       " <BarContainer object of 10 artists>)"
      ]
     },
     "execution_count": 46,
     "metadata": {},
     "output_type": "execute_result"
    },
    {
     "data": {
      "image/png": "[encoded data removed]",
      "text/plain": [
       "<Figure size 432x288 with 1 Axes>"
      ]
     },
     "metadata": {
      "needs_background": "light"
     },
     "output_type": "display_data"
    }
   ],
   "source": [
    "plt.hist(default['total_acc'])"
   ]
  },
  {
   "cell_type": "markdown",
   "id": "4dfa185e",
   "metadata": {},
   "source": [
    "-  loan balance = loan_amnt - total_pymnt"
   ]
  },
  {
   "cell_type": "markdown",
   "id": "754e757f",
   "metadata": {},
   "source": [
    "30. **Checking the value_counts for the 'last_pymnt_amnt' column**"
   ]
  },
  {
   "cell_type": "code",
   "execution_count": 47,
   "id": "cd59c8dd",
   "metadata": {},
   "outputs": [
    {
     "data": {
      "text/plain": [
       "200.00    15\n",
       "100.00    14\n",
       "50.00     12\n",
       "400.00    11\n",
       "150.00    10\n",
       "          ..\n",
       "244.09     1\n",
       "266.34     1\n",
       "348.35     1\n",
       "320.25     1\n",
       "133.55     1\n",
       "Name: last_pymnt_amnt, Length: 4128, dtype: int64"
      ]
     },
     "execution_count": 47,
     "metadata": {},
     "output_type": "execute_result"
    }
   ],
   "source": [
    "default['last_pymnt_amnt'].value_counts()"
   ]
  },
  {
   "cell_type": "markdown",
   "id": "ab5b1c26",
   "metadata": {},
   "source": [
    "31. **Checking the value_counts for the 'application_type' column**"
   ]
  },
  {
   "cell_type": "code",
   "execution_count": 48,
   "id": "6a2906b4",
   "metadata": {},
   "outputs": [
    {
     "data": {
      "text/plain": [
       "INDIVIDUAL    4942\n",
       "Name: application_type, dtype: int64"
      ]
     },
     "execution_count": 48,
     "metadata": {},
     "output_type": "execute_result"
    }
   ],
   "source": [
    "default['application_type'].value_counts()"
   ]
  },
  {
   "cell_type": "markdown",
   "id": "27d79c5a",
   "metadata": {},
   "source": [
    "32. **Checking the value_counts for the 'pub_rec_bankruptcies' column**"
   ]
  },
  {
   "cell_type": "code",
   "execution_count": 49,
   "id": "3043ebf1",
   "metadata": {},
   "outputs": [
    {
     "data": {
      "text/plain": [
       "0.0    4630\n",
       "1.0     310\n",
       "2.0       2\n",
       "Name: pub_rec_bankruptcies, dtype: int64"
      ]
     },
     "execution_count": 49,
     "metadata": {},
     "output_type": "execute_result"
    }
   ],
   "source": [
    "default['pub_rec_bankruptcies'].value_counts()"
   ]
  },
  {
   "cell_type": "markdown",
   "id": "fd552608",
   "metadata": {},
   "source": [
    "33. **Plotting an Histogram for the 'mths_since_last_delinq' column**"
   ]
  },
  {
   "cell_type": "code",
   "execution_count": 50,
   "id": "ed6e660f",
   "metadata": {},
   "outputs": [
    {
     "data": {
      "text/plain": [
       "(array([211., 319., 295., 249., 272., 174., 177., 115.,   0.,   2.]),\n",
       " array([  0. ,  10.7,  21.4,  32.1,  42.8,  53.5,  64.2,  74.9,  85.6,\n",
       "         96.3, 107. ]),\n",
       " <BarContainer object of 10 artists>)"
      ]
     },
     "execution_count": 50,
     "metadata": {},
     "output_type": "execute_result"
    },
    {
     "data": {
      "image/png": "[encoded data removed]",
      "text/plain": [
       "<Figure size 432x288 with 1 Axes>"
      ]
     },
     "metadata": {
      "needs_background": "light"
     },
     "output_type": "display_data"
    }
   ],
   "source": [
    "plt.hist(default['mths_since_last_delinq'])"
   ]
  },
  {
   "cell_type": "markdown",
   "id": "5ddfac60",
   "metadata": {},
   "source": [
    "34. **Checking the value counts for the 'mths_since_last_delinq' column in horizantal bar graph**"
   ]
  },
  {
   "cell_type": "code",
   "execution_count": 51,
   "id": "24c0283d",
   "metadata": {},
   "outputs": [
    {
     "data": {
      "text/plain": [
       "<AxesSubplot:>"
      ]
     },
     "execution_count": 51,
     "metadata": {},
     "output_type": "execute_result"
    },
    {
     "data": {
      "image/png": "[encoded data removed]",
      "text/plain": [
       "<Figure size 432x288 with 1 Axes>"
      ]
     },
     "metadata": {
      "needs_background": "light"
     },
     "output_type": "display_data"
    }
   ],
   "source": [
    "default['mths_since_last_delinq'].value_counts().head(20).sort_values(ascending=True).plot.barh()"
   ]
  },
  {
   "cell_type": "markdown",
   "id": "e9a412a6",
   "metadata": {},
   "source": [
    "### Bivariate Analysis"
   ]
  },
  {
   "cell_type": "markdown",
   "id": "8a41ac80",
   "metadata": {},
   "source": [
    "35. Obtaining the correlation for default"
   ]
  },
  {
   "cell_type": "code",
   "execution_count": 52,
   "id": "47f3009b",
   "metadata": {},
   "outputs": [
    {
     "data": {
      "text/html": [
       "<div>\n",
       "<style scoped>\n",
       "    .dataframe tbody tr th:only-of-type {\n",
       "        vertical-align: middle;\n",
       "    }\n",
       "\n",
       "    .dataframe tbody tr th {\n",
       "        vertical-align: top;\n",
       "    }\n",
       "\n",
       "    .dataframe thead th {\n",
       "        text-align: right;\n",
       "    }\n",
       "</style>\n",
       "<table border=\"1\" class=\"dataframe\">\n",
       "  <thead>\n",
       "    <tr style=\"text-align: right;\">\n",
       "      <th></th>\n",
       "      <th>id</th>\n",
       "      <th>member_id</th>\n",
       "      <th>loan_amnt</th>\n",
       "      <th>funded_amnt</th>\n",
       "      <th>funded_amnt_inv</th>\n",
       "      <th>installment</th>\n",
       "      <th>annual_inc</th>\n",
       "      <th>dti</th>\n",
       "      <th>delinq_2yrs</th>\n",
       "      <th>inq_last_6mths</th>\n",
       "      <th>...</th>\n",
       "      <th>recoveries</th>\n",
       "      <th>collection_recovery_fee</th>\n",
       "      <th>last_pymnt_amnt</th>\n",
       "      <th>collections_12_mths_ex_med</th>\n",
       "      <th>policy_code</th>\n",
       "      <th>acc_now_delinq</th>\n",
       "      <th>chargeoff_within_12_mths</th>\n",
       "      <th>delinq_amnt</th>\n",
       "      <th>pub_rec_bankruptcies</th>\n",
       "      <th>tax_liens</th>\n",
       "    </tr>\n",
       "  </thead>\n",
       "  <tbody>\n",
       "    <tr>\n",
       "      <th>id</th>\n",
       "      <td>1.000000</td>\n",
       "      <td>0.993824</td>\n",
       "      <td>0.168543</td>\n",
       "      <td>0.184035</td>\n",
       "      <td>0.280146</td>\n",
       "      <td>0.106160</td>\n",
       "      <td>-0.006569</td>\n",
       "      <td>0.098838</td>\n",
       "      <td>0.020519</td>\n",
       "      <td>-0.049497</td>\n",
       "      <td>...</td>\n",
       "      <td>0.075259</td>\n",
       "      <td>-0.042766</td>\n",
       "      <td>0.036531</td>\n",
       "      <td>NaN</td>\n",
       "      <td>NaN</td>\n",
       "      <td>NaN</td>\n",
       "      <td>NaN</td>\n",
       "      <td>NaN</td>\n",
       "      <td>-0.030916</td>\n",
       "      <td>NaN</td>\n",
       "    </tr>\n",
       "    <tr>\n",
       "      <th>member_id</th>\n",
       "      <td>0.993824</td>\n",
       "      <td>1.000000</td>\n",
       "      <td>0.166137</td>\n",
       "      <td>0.181478</td>\n",
       "      <td>0.288560</td>\n",
       "      <td>0.097244</td>\n",
       "      <td>-0.007141</td>\n",
       "      <td>0.098451</td>\n",
       "      <td>0.022498</td>\n",
       "      <td>-0.052035</td>\n",
       "      <td>...</td>\n",
       "      <td>0.072995</td>\n",
       "      <td>-0.045964</td>\n",
       "      <td>0.033128</td>\n",
       "      <td>NaN</td>\n",
       "      <td>NaN</td>\n",
       "      <td>NaN</td>\n",
       "      <td>NaN</td>\n",
       "      <td>NaN</td>\n",
       "      <td>-0.028154</td>\n",
       "      <td>NaN</td>\n",
       "    </tr>\n",
       "    <tr>\n",
       "      <th>loan_amnt</th>\n",
       "      <td>0.168543</td>\n",
       "      <td>0.166137</td>\n",
       "      <td>1.000000</td>\n",
       "      <td>0.978554</td>\n",
       "      <td>0.928518</td>\n",
       "      <td>0.924260</td>\n",
       "      <td>0.343746</td>\n",
       "      <td>0.070761</td>\n",
       "      <td>-0.026951</td>\n",
       "      <td>0.005041</td>\n",
       "      <td>...</td>\n",
       "      <td>0.315128</td>\n",
       "      <td>0.164319</td>\n",
       "      <td>0.335588</td>\n",
       "      <td>NaN</td>\n",
       "      <td>NaN</td>\n",
       "      <td>NaN</td>\n",
       "      <td>NaN</td>\n",
       "      <td>NaN</td>\n",
       "      <td>-0.017199</td>\n",
       "      <td>NaN</td>\n",
       "    </tr>\n",
       "    <tr>\n",
       "      <th>funded_amnt</th>\n",
       "      <td>0.184035</td>\n",
       "      <td>0.181478</td>\n",
       "      <td>0.978554</td>\n",
       "      <td>1.000000</td>\n",
       "      <td>0.950845</td>\n",
       "      <td>0.952807</td>\n",
       "      <td>0.339359</td>\n",
       "      <td>0.068869</td>\n",
       "      <td>-0.024650</td>\n",
       "      <td>0.004515</td>\n",
       "      <td>...</td>\n",
       "      <td>0.320647</td>\n",
       "      <td>0.171069</td>\n",
       "      <td>0.340576</td>\n",
       "      <td>NaN</td>\n",
       "      <td>NaN</td>\n",
       "      <td>NaN</td>\n",
       "      <td>NaN</td>\n",
       "      <td>NaN</td>\n",
       "      <td>-0.024071</td>\n",
       "      <td>NaN</td>\n",
       "    </tr>\n",
       "    <tr>\n",
       "      <th>funded_amnt_inv</th>\n",
       "      <td>0.280146</td>\n",
       "      <td>0.288560</td>\n",
       "      <td>0.928518</td>\n",
       "      <td>0.950845</td>\n",
       "      <td>1.000000</td>\n",
       "      <td>0.889098</td>\n",
       "      <td>0.317774</td>\n",
       "      <td>0.073032</td>\n",
       "      <td>-0.023086</td>\n",
       "      <td>-0.007746</td>\n",
       "      <td>...</td>\n",
       "      <td>0.312073</td>\n",
       "      <td>0.152320</td>\n",
       "      <td>0.301062</td>\n",
       "      <td>NaN</td>\n",
       "      <td>NaN</td>\n",
       "      <td>NaN</td>\n",
       "      <td>NaN</td>\n",
       "      <td>NaN</td>\n",
       "      <td>-0.028970</td>\n",
       "      <td>NaN</td>\n",
       "    </tr>\n",
       "    <tr>\n",
       "      <th>installment</th>\n",
       "      <td>0.106160</td>\n",
       "      <td>0.097244</td>\n",
       "      <td>0.924260</td>\n",
       "      <td>0.952807</td>\n",
       "      <td>0.889098</td>\n",
       "      <td>1.000000</td>\n",
       "      <td>0.350966</td>\n",
       "      <td>0.051254</td>\n",
       "      <td>-0.011601</td>\n",
       "      <td>0.014975</td>\n",
       "      <td>...</td>\n",
       "      <td>0.305286</td>\n",
       "      <td>0.192617</td>\n",
       "      <td>0.351793</td>\n",
       "      <td>NaN</td>\n",
       "      <td>NaN</td>\n",
       "      <td>NaN</td>\n",
       "      <td>NaN</td>\n",
       "      <td>NaN</td>\n",
       "      <td>-0.019055</td>\n",
       "      <td>NaN</td>\n",
       "    </tr>\n",
       "    <tr>\n",
       "      <th>annual_inc</th>\n",
       "      <td>-0.006569</td>\n",
       "      <td>-0.007141</td>\n",
       "      <td>0.343746</td>\n",
       "      <td>0.339359</td>\n",
       "      <td>0.317774</td>\n",
       "      <td>0.350966</td>\n",
       "      <td>1.000000</td>\n",
       "      <td>-0.081408</td>\n",
       "      <td>0.032709</td>\n",
       "      <td>0.034686</td>\n",
       "      <td>...</td>\n",
       "      <td>0.138256</td>\n",
       "      <td>0.093532</td>\n",
       "      <td>0.131096</td>\n",
       "      <td>NaN</td>\n",
       "      <td>NaN</td>\n",
       "      <td>NaN</td>\n",
       "      <td>NaN</td>\n",
       "      <td>NaN</td>\n",
       "      <td>0.006890</td>\n",
       "      <td>NaN</td>\n",
       "    </tr>\n",
       "    <tr>\n",
       "      <th>dti</th>\n",
       "      <td>0.098838</td>\n",
       "      <td>0.098451</td>\n",
       "      <td>0.070761</td>\n",
       "      <td>0.068869</td>\n",
       "      <td>0.073032</td>\n",
       "      <td>0.051254</td>\n",
       "      <td>-0.081408</td>\n",
       "      <td>1.000000</td>\n",
       "      <td>-0.064751</td>\n",
       "      <td>-0.022554</td>\n",
       "      <td>...</td>\n",
       "      <td>0.029328</td>\n",
       "      <td>0.005121</td>\n",
       "      <td>0.003396</td>\n",
       "      <td>NaN</td>\n",
       "      <td>NaN</td>\n",
       "      <td>NaN</td>\n",
       "      <td>NaN</td>\n",
       "      <td>NaN</td>\n",
       "      <td>0.015318</td>\n",
       "      <td>NaN</td>\n",
       "    </tr>\n",
       "    <tr>\n",
       "      <th>delinq_2yrs</th>\n",
       "      <td>0.020519</td>\n",
       "      <td>0.022498</td>\n",
       "      <td>-0.026951</td>\n",
       "      <td>-0.024650</td>\n",
       "      <td>-0.023086</td>\n",
       "      <td>-0.011601</td>\n",
       "      <td>0.032709</td>\n",
       "      <td>-0.064751</td>\n",
       "      <td>1.000000</td>\n",
       "      <td>-0.013546</td>\n",
       "      <td>...</td>\n",
       "      <td>0.017900</td>\n",
       "      <td>0.029345</td>\n",
       "      <td>0.001218</td>\n",
       "      <td>NaN</td>\n",
       "      <td>NaN</td>\n",
       "      <td>NaN</td>\n",
       "      <td>NaN</td>\n",
       "      <td>NaN</td>\n",
       "      <td>0.006460</td>\n",
       "      <td>NaN</td>\n",
       "    </tr>\n",
       "    <tr>\n",
       "      <th>inq_last_6mths</th>\n",
       "      <td>-0.049497</td>\n",
       "      <td>-0.052035</td>\n",
       "      <td>0.005041</td>\n",
       "      <td>0.004515</td>\n",
       "      <td>-0.007746</td>\n",
       "      <td>0.014975</td>\n",
       "      <td>0.034686</td>\n",
       "      <td>-0.022554</td>\n",
       "      <td>-0.013546</td>\n",
       "      <td>1.000000</td>\n",
       "      <td>...</td>\n",
       "      <td>-0.011703</td>\n",
       "      <td>-0.000904</td>\n",
       "      <td>0.018101</td>\n",
       "      <td>NaN</td>\n",
       "      <td>NaN</td>\n",
       "      <td>NaN</td>\n",
       "      <td>NaN</td>\n",
       "      <td>NaN</td>\n",
       "      <td>0.010612</td>\n",
       "      <td>NaN</td>\n",
       "    </tr>\n",
       "    <tr>\n",
       "      <th>mths_since_last_delinq</th>\n",
       "      <td>-0.011981</td>\n",
       "      <td>-0.013037</td>\n",
       "      <td>0.018035</td>\n",
       "      <td>0.022489</td>\n",
       "      <td>0.024666</td>\n",
       "      <td>0.012161</td>\n",
       "      <td>-0.033614</td>\n",
       "      <td>0.061742</td>\n",
       "      <td>-0.634874</td>\n",
       "      <td>0.009903</td>\n",
       "      <td>...</td>\n",
       "      <td>-0.039198</td>\n",
       "      <td>-0.055386</td>\n",
       "      <td>-0.023046</td>\n",
       "      <td>NaN</td>\n",
       "      <td>NaN</td>\n",
       "      <td>NaN</td>\n",
       "      <td>NaN</td>\n",
       "      <td>NaN</td>\n",
       "      <td>0.043520</td>\n",
       "      <td>NaN</td>\n",
       "    </tr>\n",
       "    <tr>\n",
       "      <th>mths_since_last_record</th>\n",
       "      <td>0.155466</td>\n",
       "      <td>0.162874</td>\n",
       "      <td>0.133757</td>\n",
       "      <td>0.132102</td>\n",
       "      <td>0.128928</td>\n",
       "      <td>0.096718</td>\n",
       "      <td>0.088997</td>\n",
       "      <td>0.138531</td>\n",
       "      <td>-0.018733</td>\n",
       "      <td>-0.052390</td>\n",
       "      <td>...</td>\n",
       "      <td>0.057848</td>\n",
       "      <td>0.022069</td>\n",
       "      <td>0.068167</td>\n",
       "      <td>NaN</td>\n",
       "      <td>NaN</td>\n",
       "      <td>NaN</td>\n",
       "      <td>NaN</td>\n",
       "      <td>NaN</td>\n",
       "      <td>0.809745</td>\n",
       "      <td>NaN</td>\n",
       "    </tr>\n",
       "    <tr>\n",
       "      <th>open_acc</th>\n",
       "      <td>0.022937</td>\n",
       "      <td>0.016298</td>\n",
       "      <td>0.170894</td>\n",
       "      <td>0.168135</td>\n",
       "      <td>0.147467</td>\n",
       "      <td>0.167265</td>\n",
       "      <td>0.207119</td>\n",
       "      <td>0.303905</td>\n",
       "      <td>-0.012512</td>\n",
       "      <td>0.081107</td>\n",
       "      <td>...</td>\n",
       "      <td>0.058924</td>\n",
       "      <td>0.031920</td>\n",
       "      <td>0.055804</td>\n",
       "      <td>NaN</td>\n",
       "      <td>NaN</td>\n",
       "      <td>NaN</td>\n",
       "      <td>NaN</td>\n",
       "      <td>NaN</td>\n",
       "      <td>0.067575</td>\n",
       "      <td>NaN</td>\n",
       "    </tr>\n",
       "    <tr>\n",
       "      <th>pub_rec</th>\n",
       "      <td>-0.055689</td>\n",
       "      <td>-0.054503</td>\n",
       "      <td>-0.040988</td>\n",
       "      <td>-0.046707</td>\n",
       "      <td>-0.052800</td>\n",
       "      <td>-0.035780</td>\n",
       "      <td>0.000265</td>\n",
       "      <td>0.000100</td>\n",
       "      <td>0.006494</td>\n",
       "      <td>0.014754</td>\n",
       "      <td>...</td>\n",
       "      <td>-0.053817</td>\n",
       "      <td>-0.037182</td>\n",
       "      <td>-0.019691</td>\n",
       "      <td>NaN</td>\n",
       "      <td>NaN</td>\n",
       "      <td>NaN</td>\n",
       "      <td>NaN</td>\n",
       "      <td>NaN</td>\n",
       "      <td>0.853072</td>\n",
       "      <td>NaN</td>\n",
       "    </tr>\n",
       "    <tr>\n",
       "      <th>revol_bal</th>\n",
       "      <td>-0.023120</td>\n",
       "      <td>-0.031382</td>\n",
       "      <td>0.319091</td>\n",
       "      <td>0.302017</td>\n",
       "      <td>0.261266</td>\n",
       "      <td>0.305657</td>\n",
       "      <td>0.364480</td>\n",
       "      <td>0.251400</td>\n",
       "      <td>-0.078410</td>\n",
       "      <td>-0.008616</td>\n",
       "      <td>...</td>\n",
       "      <td>0.130790</td>\n",
       "      <td>0.073885</td>\n",
       "      <td>0.130167</td>\n",
       "      <td>NaN</td>\n",
       "      <td>NaN</td>\n",
       "      <td>NaN</td>\n",
       "      <td>NaN</td>\n",
       "      <td>NaN</td>\n",
       "      <td>-0.044531</td>\n",
       "      <td>NaN</td>\n",
       "    </tr>\n",
       "    <tr>\n",
       "      <th>total_acc</th>\n",
       "      <td>0.021718</td>\n",
       "      <td>0.019417</td>\n",
       "      <td>0.281186</td>\n",
       "      <td>0.273132</td>\n",
       "      <td>0.252049</td>\n",
       "      <td>0.252709</td>\n",
       "      <td>0.287081</td>\n",
       "      <td>0.273049</td>\n",
       "      <td>0.066429</td>\n",
       "      <td>0.112374</td>\n",
       "      <td>...</td>\n",
       "      <td>0.094014</td>\n",
       "      <td>0.052807</td>\n",
       "      <td>0.093380</td>\n",
       "      <td>NaN</td>\n",
       "      <td>NaN</td>\n",
       "      <td>NaN</td>\n",
       "      <td>NaN</td>\n",
       "      <td>NaN</td>\n",
       "      <td>0.044175</td>\n",
       "      <td>NaN</td>\n",
       "    </tr>\n",
       "    <tr>\n",
       "      <th>out_prncp</th>\n",
       "      <td>NaN</td>\n",
       "      <td>NaN</td>\n",
       "      <td>NaN</td>\n",
       "      <td>NaN</td>\n",
       "      <td>NaN</td>\n",
       "      <td>NaN</td>\n",
       "      <td>NaN</td>\n",
       "      <td>NaN</td>\n",
       "      <td>NaN</td>\n",
       "      <td>NaN</td>\n",
       "      <td>...</td>\n",
       "      <td>NaN</td>\n",
       "      <td>NaN</td>\n",
       "      <td>NaN</td>\n",
       "      <td>NaN</td>\n",
       "      <td>NaN</td>\n",
       "      <td>NaN</td>\n",
       "      <td>NaN</td>\n",
       "      <td>NaN</td>\n",
       "      <td>NaN</td>\n",
       "      <td>NaN</td>\n",
       "    </tr>\n",
       "    <tr>\n",
       "      <th>out_prncp_inv</th>\n",
       "      <td>NaN</td>\n",
       "      <td>NaN</td>\n",
       "      <td>NaN</td>\n",
       "      <td>NaN</td>\n",
       "      <td>NaN</td>\n",
       "      <td>NaN</td>\n",
       "      <td>NaN</td>\n",
       "      <td>NaN</td>\n",
       "      <td>NaN</td>\n",
       "      <td>NaN</td>\n",
       "      <td>...</td>\n",
       "      <td>NaN</td>\n",
       "      <td>NaN</td>\n",
       "      <td>NaN</td>\n",
       "      <td>NaN</td>\n",
       "      <td>NaN</td>\n",
       "      <td>NaN</td>\n",
       "      <td>NaN</td>\n",
       "      <td>NaN</td>\n",
       "      <td>NaN</td>\n",
       "      <td>NaN</td>\n",
       "    </tr>\n",
       "    <tr>\n",
       "      <th>total_pymnt</th>\n",
       "      <td>0.139461</td>\n",
       "      <td>0.139630</td>\n",
       "      <td>0.681772</td>\n",
       "      <td>0.699395</td>\n",
       "      <td>0.699830</td>\n",
       "      <td>0.670691</td>\n",
       "      <td>0.277281</td>\n",
       "      <td>0.042844</td>\n",
       "      <td>-0.017301</td>\n",
       "      <td>-0.045908</td>\n",
       "      <td>...</td>\n",
       "      <td>0.409416</td>\n",
       "      <td>0.277190</td>\n",
       "      <td>0.256170</td>\n",
       "      <td>NaN</td>\n",
       "      <td>NaN</td>\n",
       "      <td>NaN</td>\n",
       "      <td>NaN</td>\n",
       "      <td>NaN</td>\n",
       "      <td>-0.034784</td>\n",
       "      <td>NaN</td>\n",
       "    </tr>\n",
       "    <tr>\n",
       "      <th>total_pymnt_inv</th>\n",
       "      <td>0.195750</td>\n",
       "      <td>0.202117</td>\n",
       "      <td>0.653700</td>\n",
       "      <td>0.672329</td>\n",
       "      <td>0.720870</td>\n",
       "      <td>0.637073</td>\n",
       "      <td>0.265378</td>\n",
       "      <td>0.045421</td>\n",
       "      <td>-0.017226</td>\n",
       "      <td>-0.050297</td>\n",
       "      <td>...</td>\n",
       "      <td>0.393749</td>\n",
       "      <td>0.251517</td>\n",
       "      <td>0.231322</td>\n",
       "      <td>NaN</td>\n",
       "      <td>NaN</td>\n",
       "      <td>NaN</td>\n",
       "      <td>NaN</td>\n",
       "      <td>NaN</td>\n",
       "      <td>-0.036984</td>\n",
       "      <td>NaN</td>\n",
       "    </tr>\n",
       "    <tr>\n",
       "      <th>total_rec_prncp</th>\n",
       "      <td>0.066985</td>\n",
       "      <td>0.066580</td>\n",
       "      <td>0.549289</td>\n",
       "      <td>0.567353</td>\n",
       "      <td>0.566088</td>\n",
       "      <td>0.578274</td>\n",
       "      <td>0.234016</td>\n",
       "      <td>0.013587</td>\n",
       "      <td>-0.039281</td>\n",
       "      <td>-0.057052</td>\n",
       "      <td>...</td>\n",
       "      <td>0.097873</td>\n",
       "      <td>0.054793</td>\n",
       "      <td>0.267866</td>\n",
       "      <td>NaN</td>\n",
       "      <td>NaN</td>\n",
       "      <td>NaN</td>\n",
       "      <td>NaN</td>\n",
       "      <td>NaN</td>\n",
       "      <td>-0.033570</td>\n",
       "      <td>NaN</td>\n",
       "    </tr>\n",
       "    <tr>\n",
       "      <th>total_rec_int</th>\n",
       "      <td>0.207333</td>\n",
       "      <td>0.209937</td>\n",
       "      <td>0.701971</td>\n",
       "      <td>0.715861</td>\n",
       "      <td>0.724827</td>\n",
       "      <td>0.634684</td>\n",
       "      <td>0.262070</td>\n",
       "      <td>0.070438</td>\n",
       "      <td>0.003953</td>\n",
       "      <td>-0.022650</td>\n",
       "      <td>...</td>\n",
       "      <td>0.234996</td>\n",
       "      <td>0.107765</td>\n",
       "      <td>0.195141</td>\n",
       "      <td>NaN</td>\n",
       "      <td>NaN</td>\n",
       "      <td>NaN</td>\n",
       "      <td>NaN</td>\n",
       "      <td>NaN</td>\n",
       "      <td>-0.005409</td>\n",
       "      <td>NaN</td>\n",
       "    </tr>\n",
       "    <tr>\n",
       "      <th>total_rec_late_fee</th>\n",
       "      <td>-0.088437</td>\n",
       "      <td>-0.090274</td>\n",
       "      <td>0.089093</td>\n",
       "      <td>0.095908</td>\n",
       "      <td>0.077702</td>\n",
       "      <td>0.120107</td>\n",
       "      <td>0.061457</td>\n",
       "      <td>-0.041200</td>\n",
       "      <td>0.024611</td>\n",
       "      <td>0.020823</td>\n",
       "      <td>...</td>\n",
       "      <td>0.059400</td>\n",
       "      <td>0.080683</td>\n",
       "      <td>0.102249</td>\n",
       "      <td>NaN</td>\n",
       "      <td>NaN</td>\n",
       "      <td>NaN</td>\n",
       "      <td>NaN</td>\n",
       "      <td>NaN</td>\n",
       "      <td>-0.037398</td>\n",
       "      <td>NaN</td>\n",
       "    </tr>\n",
       "    <tr>\n",
       "      <th>recoveries</th>\n",
       "      <td>0.075259</td>\n",
       "      <td>0.072995</td>\n",
       "      <td>0.315128</td>\n",
       "      <td>0.320647</td>\n",
       "      <td>0.312073</td>\n",
       "      <td>0.305286</td>\n",
       "      <td>0.138256</td>\n",
       "      <td>0.029328</td>\n",
       "      <td>0.017900</td>\n",
       "      <td>-0.011703</td>\n",
       "      <td>...</td>\n",
       "      <td>1.000000</td>\n",
       "      <td>0.779258</td>\n",
       "      <td>0.078041</td>\n",
       "      <td>NaN</td>\n",
       "      <td>NaN</td>\n",
       "      <td>NaN</td>\n",
       "      <td>NaN</td>\n",
       "      <td>NaN</td>\n",
       "      <td>-0.048137</td>\n",
       "      <td>NaN</td>\n",
       "    </tr>\n",
       "    <tr>\n",
       "      <th>collection_recovery_fee</th>\n",
       "      <td>-0.042766</td>\n",
       "      <td>-0.045964</td>\n",
       "      <td>0.164319</td>\n",
       "      <td>0.171069</td>\n",
       "      <td>0.152320</td>\n",
       "      <td>0.192617</td>\n",
       "      <td>0.093532</td>\n",
       "      <td>0.005121</td>\n",
       "      <td>0.029345</td>\n",
       "      <td>-0.000904</td>\n",
       "      <td>...</td>\n",
       "      <td>0.779258</td>\n",
       "      <td>1.000000</td>\n",
       "      <td>0.054952</td>\n",
       "      <td>NaN</td>\n",
       "      <td>NaN</td>\n",
       "      <td>NaN</td>\n",
       "      <td>NaN</td>\n",
       "      <td>NaN</td>\n",
       "      <td>-0.035664</td>\n",
       "      <td>NaN</td>\n",
       "    </tr>\n",
       "    <tr>\n",
       "      <th>last_pymnt_amnt</th>\n",
       "      <td>0.036531</td>\n",
       "      <td>0.033128</td>\n",
       "      <td>0.335588</td>\n",
       "      <td>0.340576</td>\n",
       "      <td>0.301062</td>\n",
       "      <td>0.351793</td>\n",
       "      <td>0.131096</td>\n",
       "      <td>0.003396</td>\n",
       "      <td>0.001218</td>\n",
       "      <td>0.018101</td>\n",
       "      <td>...</td>\n",
       "      <td>0.078041</td>\n",
       "      <td>0.054952</td>\n",
       "      <td>1.000000</td>\n",
       "      <td>NaN</td>\n",
       "      <td>NaN</td>\n",
       "      <td>NaN</td>\n",
       "      <td>NaN</td>\n",
       "      <td>NaN</td>\n",
       "      <td>-0.009905</td>\n",
       "      <td>NaN</td>\n",
       "    </tr>\n",
       "    <tr>\n",
       "      <th>collections_12_mths_ex_med</th>\n",
       "      <td>NaN</td>\n",
       "      <td>NaN</td>\n",
       "      <td>NaN</td>\n",
       "      <td>NaN</td>\n",
       "      <td>NaN</td>\n",
       "      <td>NaN</td>\n",
       "      <td>NaN</td>\n",
       "      <td>NaN</td>\n",
       "      <td>NaN</td>\n",
       "      <td>NaN</td>\n",
       "      <td>...</td>\n",
       "      <td>NaN</td>\n",
       "      <td>NaN</td>\n",
       "      <td>NaN</td>\n",
       "      <td>NaN</td>\n",
       "      <td>NaN</td>\n",
       "      <td>NaN</td>\n",
       "      <td>NaN</td>\n",
       "      <td>NaN</td>\n",
       "      <td>NaN</td>\n",
       "      <td>NaN</td>\n",
       "    </tr>\n",
       "    <tr>\n",
       "      <th>policy_code</th>\n",
       "      <td>NaN</td>\n",
       "      <td>NaN</td>\n",
       "      <td>NaN</td>\n",
       "      <td>NaN</td>\n",
       "      <td>NaN</td>\n",
       "      <td>NaN</td>\n",
       "      <td>NaN</td>\n",
       "      <td>NaN</td>\n",
       "      <td>NaN</td>\n",
       "      <td>NaN</td>\n",
       "      <td>...</td>\n",
       "      <td>NaN</td>\n",
       "      <td>NaN</td>\n",
       "      <td>NaN</td>\n",
       "      <td>NaN</td>\n",
       "      <td>NaN</td>\n",
       "      <td>NaN</td>\n",
       "      <td>NaN</td>\n",
       "      <td>NaN</td>\n",
       "      <td>NaN</td>\n",
       "      <td>NaN</td>\n",
       "    </tr>\n",
       "    <tr>\n",
       "      <th>acc_now_delinq</th>\n",
       "      <td>NaN</td>\n",
       "      <td>NaN</td>\n",
       "      <td>NaN</td>\n",
       "      <td>NaN</td>\n",
       "      <td>NaN</td>\n",
       "      <td>NaN</td>\n",
       "      <td>NaN</td>\n",
       "      <td>NaN</td>\n",
       "      <td>NaN</td>\n",
       "      <td>NaN</td>\n",
       "      <td>...</td>\n",
       "      <td>NaN</td>\n",
       "      <td>NaN</td>\n",
       "      <td>NaN</td>\n",
       "      <td>NaN</td>\n",
       "      <td>NaN</td>\n",
       "      <td>NaN</td>\n",
       "      <td>NaN</td>\n",
       "      <td>NaN</td>\n",
       "      <td>NaN</td>\n",
       "      <td>NaN</td>\n",
       "    </tr>\n",
       "    <tr>\n",
       "      <th>chargeoff_within_12_mths</th>\n",
       "      <td>NaN</td>\n",
       "      <td>NaN</td>\n",
       "      <td>NaN</td>\n",
       "      <td>NaN</td>\n",
       "      <td>NaN</td>\n",
       "      <td>NaN</td>\n",
       "      <td>NaN</td>\n",
       "      <td>NaN</td>\n",
       "      <td>NaN</td>\n",
       "      <td>NaN</td>\n",
       "      <td>...</td>\n",
       "      <td>NaN</td>\n",
       "      <td>NaN</td>\n",
       "      <td>NaN</td>\n",
       "      <td>NaN</td>\n",
       "      <td>NaN</td>\n",
       "      <td>NaN</td>\n",
       "      <td>NaN</td>\n",
       "      <td>NaN</td>\n",
       "      <td>NaN</td>\n",
       "      <td>NaN</td>\n",
       "    </tr>\n",
       "    <tr>\n",
       "      <th>delinq_amnt</th>\n",
       "      <td>NaN</td>\n",
       "      <td>NaN</td>\n",
       "      <td>NaN</td>\n",
       "      <td>NaN</td>\n",
       "      <td>NaN</td>\n",
       "      <td>NaN</td>\n",
       "      <td>NaN</td>\n",
       "      <td>NaN</td>\n",
       "      <td>NaN</td>\n",
       "      <td>NaN</td>\n",
       "      <td>...</td>\n",
       "      <td>NaN</td>\n",
       "      <td>NaN</td>\n",
       "      <td>NaN</td>\n",
       "      <td>NaN</td>\n",
       "      <td>NaN</td>\n",
       "      <td>NaN</td>\n",
       "      <td>NaN</td>\n",
       "      <td>NaN</td>\n",
       "      <td>NaN</td>\n",
       "      <td>NaN</td>\n",
       "    </tr>\n",
       "    <tr>\n",
       "      <th>pub_rec_bankruptcies</th>\n",
       "      <td>-0.030916</td>\n",
       "      <td>-0.028154</td>\n",
       "      <td>-0.017199</td>\n",
       "      <td>-0.024071</td>\n",
       "      <td>-0.028970</td>\n",
       "      <td>-0.019055</td>\n",
       "      <td>0.006890</td>\n",
       "      <td>0.015318</td>\n",
       "      <td>0.006460</td>\n",
       "      <td>0.010612</td>\n",
       "      <td>...</td>\n",
       "      <td>-0.048137</td>\n",
       "      <td>-0.035664</td>\n",
       "      <td>-0.009905</td>\n",
       "      <td>NaN</td>\n",
       "      <td>NaN</td>\n",
       "      <td>NaN</td>\n",
       "      <td>NaN</td>\n",
       "      <td>NaN</td>\n",
       "      <td>1.000000</td>\n",
       "      <td>NaN</td>\n",
       "    </tr>\n",
       "    <tr>\n",
       "      <th>tax_liens</th>\n",
       "      <td>NaN</td>\n",
       "      <td>NaN</td>\n",
       "      <td>NaN</td>\n",
       "      <td>NaN</td>\n",
       "      <td>NaN</td>\n",
       "      <td>NaN</td>\n",
       "      <td>NaN</td>\n",
       "      <td>NaN</td>\n",
       "      <td>NaN</td>\n",
       "      <td>NaN</td>\n",
       "      <td>...</td>\n",
       "      <td>NaN</td>\n",
       "      <td>NaN</td>\n",
       "      <td>NaN</td>\n",
       "      <td>NaN</td>\n",
       "      <td>NaN</td>\n",
       "      <td>NaN</td>\n",
       "      <td>NaN</td>\n",
       "      <td>NaN</td>\n",
       "      <td>NaN</td>\n",
       "      <td>NaN</td>\n",
       "    </tr>\n",
       "  </tbody>\n",
       "</table>\n",
       "<p>33 rows × 33 columns</p>\n",
       "</div>"
      ],
      "text/plain": [
       "                                  id  member_id  loan_amnt  funded_amnt  \\\n",
       "id                          1.000000   0.993824   0.168543     0.184035   \n",
       "member_id                   0.993824   1.000000   0.166137     0.181478   \n",
       "loan_amnt                   0.168543   0.166137   1.000000     0.978554   \n",
       "funded_amnt                 0.184035   0.181478   0.978554     1.000000   \n",
       "funded_amnt_inv             0.280146   0.288560   0.928518     0.950845   \n",
       "installment                 0.106160   0.097244   0.924260     0.952807   \n",
       "annual_inc                 -0.006569  -0.007141   0.343746     0.339359   \n",
       "dti                         0.098838   0.098451   0.070761     0.068869   \n",
       "delinq_2yrs                 0.020519   0.022498  -0.026951    -0.024650   \n",
       "inq_last_6mths             -0.049497  -0.052035   0.005041     0.004515   \n",
       "mths_since_last_delinq     -0.011981  -0.013037   0.018035     0.022489   \n",
       "mths_since_last_record      0.155466   0.162874   0.133757     0.132102   \n",
       "open_acc                    0.022937   0.016298   0.170894     0.168135   \n",
       "pub_rec                    -0.055689  -0.054503  -0.040988    -0.046707   \n",
       "revol_bal                  -0.023120  -0.031382   0.319091     0.302017   \n",
       "total_acc                   0.021718   0.019417   0.281186     0.273132   \n",
       "out_prncp                        NaN        NaN        NaN          NaN   \n",
       "out_prncp_inv                    NaN        NaN        NaN          NaN   \n",
       "total_pymnt                 0.139461   0.139630   0.681772     0.699395   \n",
       "total_pymnt_inv             0.195750   0.202117   0.653700     0.672329   \n",
       "total_rec_prncp             0.066985   0.066580   0.549289     0.567353   \n",
       "total_rec_int               0.207333   0.209937   0.701971     0.715861   \n",
       "total_rec_late_fee         -0.088437  -0.090274   0.089093     0.095908   \n",
       "recoveries                  0.075259   0.072995   0.315128     0.320647   \n",
       "collection_recovery_fee    -0.042766  -0.045964   0.164319     0.171069   \n",
       "last_pymnt_amnt             0.036531   0.033128   0.335588     0.340576   \n",
       "collections_12_mths_ex_med       NaN        NaN        NaN          NaN   \n",
       "policy_code                      NaN        NaN        NaN          NaN   \n",
       "acc_now_delinq                   NaN        NaN        NaN          NaN   \n",
       "chargeoff_within_12_mths         NaN        NaN        NaN          NaN   \n",
       "delinq_amnt                      NaN        NaN        NaN          NaN   \n",
       "pub_rec_bankruptcies       -0.030916  -0.028154  -0.017199    -0.024071   \n",
       "tax_liens                        NaN        NaN        NaN          NaN   \n",
       "\n",
       "                            funded_amnt_inv  installment  annual_inc  \\\n",
       "id                                 0.280146     0.106160   -0.006569   \n",
       "member_id                          0.288560     0.097244   -0.007141   \n",
       "loan_amnt                          0.928518     0.924260    0.343746   \n",
       "funded_amnt                        0.950845     0.952807    0.339359   \n",
       "funded_amnt_inv                    1.000000     0.889098    0.317774   \n",
       "installment                        0.889098     1.000000    0.350966   \n",
       "annual_inc                         0.317774     0.350966    1.000000   \n",
       "dti                                0.073032     0.051254   -0.081408   \n",
       "delinq_2yrs                       -0.023086    -0.011601    0.032709   \n",
       "inq_last_6mths                    -0.007746     0.014975    0.034686   \n",
       "mths_since_last_delinq             0.024666     0.012161   -0.033614   \n",
       "mths_since_last_record             0.128928     0.096718    0.088997   \n",
       "open_acc                           0.147467     0.167265    0.207119   \n",
       "pub_rec                           -0.052800    -0.035780    0.000265   \n",
       "revol_bal                          0.261266     0.305657    0.364480   \n",
       "total_acc                          0.252049     0.252709    0.287081   \n",
       "out_prncp                               NaN          NaN         NaN   \n",
       "out_prncp_inv                           NaN          NaN         NaN   \n",
       "total_pymnt                        0.699830     0.670691    0.277281   \n",
       "total_pymnt_inv                    0.720870     0.637073    0.265378   \n",
       "total_rec_prncp                    0.566088     0.578274    0.234016   \n",
       "total_rec_int                      0.724827     0.634684    0.262070   \n",
       "total_rec_late_fee                 0.077702     0.120107    0.061457   \n",
       "recoveries                         0.312073     0.305286    0.138256   \n",
       "collection_recovery_fee            0.152320     0.192617    0.093532   \n",
       "last_pymnt_amnt                    0.301062     0.351793    0.131096   \n",
       "collections_12_mths_ex_med              NaN          NaN         NaN   \n",
       "policy_code                             NaN          NaN         NaN   \n",
       "acc_now_delinq                          NaN          NaN         NaN   \n",
       "chargeoff_within_12_mths                NaN          NaN         NaN   \n",
       "delinq_amnt                             NaN          NaN         NaN   \n",
       "pub_rec_bankruptcies              -0.028970    -0.019055    0.006890   \n",
       "tax_liens                               NaN          NaN         NaN   \n",
       "\n",
       "                                 dti  delinq_2yrs  inq_last_6mths  ...  \\\n",
       "id                          0.098838     0.020519       -0.049497  ...   \n",
       "member_id                   0.098451     0.022498       -0.052035  ...   \n",
       "loan_amnt                   0.070761    -0.026951        0.005041  ...   \n",
       "funded_amnt                 0.068869    -0.024650        0.004515  ...   \n",
       "funded_amnt_inv             0.073032    -0.023086       -0.007746  ...   \n",
       "installment                 0.051254    -0.011601        0.014975  ...   \n",
       "annual_inc                 -0.081408     0.032709        0.034686  ...   \n",
       "dti                         1.000000    -0.064751       -0.022554  ...   \n",
       "delinq_2yrs                -0.064751     1.000000       -0.013546  ...   \n",
       "inq_last_6mths             -0.022554    -0.013546        1.000000  ...   \n",
       "mths_since_last_delinq      0.061742    -0.634874        0.009903  ...   \n",
       "mths_since_last_record      0.138531    -0.018733       -0.052390  ...   \n",
       "open_acc                    0.303905    -0.012512        0.081107  ...   \n",
       "pub_rec                     0.000100     0.006494        0.014754  ...   \n",
       "revol_bal                   0.251400    -0.078410       -0.008616  ...   \n",
       "total_acc                   0.273049     0.066429        0.112374  ...   \n",
       "out_prncp                        NaN          NaN             NaN  ...   \n",
       "out_prncp_inv                    NaN          NaN             NaN  ...   \n",
       "total_pymnt                 0.042844    -0.017301       -0.045908  ...   \n",
       "total_pymnt_inv             0.045421    -0.017226       -0.050297  ...   \n",
       "total_rec_prncp             0.013587    -0.039281       -0.057052  ...   \n",
       "total_rec_int               0.070438     0.003953       -0.022650  ...   \n",
       "total_rec_late_fee         -0.041200     0.024611        0.020823  ...   \n",
       "recoveries                  0.029328     0.017900       -0.011703  ...   \n",
       "collection_recovery_fee     0.005121     0.029345       -0.000904  ...   \n",
       "last_pymnt_amnt             0.003396     0.001218        0.018101  ...   \n",
       "collections_12_mths_ex_med       NaN          NaN             NaN  ...   \n",
       "policy_code                      NaN          NaN             NaN  ...   \n",
       "acc_now_delinq                   NaN          NaN             NaN  ...   \n",
       "chargeoff_within_12_mths         NaN          NaN             NaN  ...   \n",
       "delinq_amnt                      NaN          NaN             NaN  ...   \n",
       "pub_rec_bankruptcies        0.015318     0.006460        0.010612  ...   \n",
       "tax_liens                        NaN          NaN             NaN  ...   \n",
       "\n",
       "                            recoveries  collection_recovery_fee  \\\n",
       "id                            0.075259                -0.042766   \n",
       "member_id                     0.072995                -0.045964   \n",
       "loan_amnt                     0.315128                 0.164319   \n",
       "funded_amnt                   0.320647                 0.171069   \n",
       "funded_amnt_inv               0.312073                 0.152320   \n",
       "installment                   0.305286                 0.192617   \n",
       "annual_inc                    0.138256                 0.093532   \n",
       "dti                           0.029328                 0.005121   \n",
       "delinq_2yrs                   0.017900                 0.029345   \n",
       "inq_last_6mths               -0.011703                -0.000904   \n",
       "mths_since_last_delinq       -0.039198                -0.055386   \n",
       "mths_since_last_record        0.057848                 0.022069   \n",
       "open_acc                      0.058924                 0.031920   \n",
       "pub_rec                      -0.053817                -0.037182   \n",
       "revol_bal                     0.130790                 0.073885   \n",
       "total_acc                     0.094014                 0.052807   \n",
       "out_prncp                          NaN                      NaN   \n",
       "out_prncp_inv                      NaN                      NaN   \n",
       "total_pymnt                   0.409416                 0.277190   \n",
       "total_pymnt_inv               0.393749                 0.251517   \n",
       "total_rec_prncp               0.097873                 0.054793   \n",
       "total_rec_int                 0.234996                 0.107765   \n",
       "total_rec_late_fee            0.059400                 0.080683   \n",
       "recoveries                    1.000000                 0.779258   \n",
       "collection_recovery_fee       0.779258                 1.000000   \n",
       "last_pymnt_amnt               0.078041                 0.054952   \n",
       "collections_12_mths_ex_med         NaN                      NaN   \n",
       "policy_code                        NaN                      NaN   \n",
       "acc_now_delinq                     NaN                      NaN   \n",
       "chargeoff_within_12_mths           NaN                      NaN   \n",
       "delinq_amnt                        NaN                      NaN   \n",
       "pub_rec_bankruptcies         -0.048137                -0.035664   \n",
       "tax_liens                          NaN                      NaN   \n",
       "\n",
       "                            last_pymnt_amnt  collections_12_mths_ex_med  \\\n",
       "id                                 0.036531                         NaN   \n",
       "member_id                          0.033128                         NaN   \n",
       "loan_amnt                          0.335588                         NaN   \n",
       "funded_amnt                        0.340576                         NaN   \n",
       "funded_amnt_inv                    0.301062                         NaN   \n",
       "installment                        0.351793                         NaN   \n",
       "annual_inc                         0.131096                         NaN   \n",
       "dti                                0.003396                         NaN   \n",
       "delinq_2yrs                        0.001218                         NaN   \n",
       "inq_last_6mths                     0.018101                         NaN   \n",
       "mths_since_last_delinq            -0.023046                         NaN   \n",
       "mths_since_last_record             0.068167                         NaN   \n",
       "open_acc                           0.055804                         NaN   \n",
       "pub_rec                           -0.019691                         NaN   \n",
       "revol_bal                          0.130167                         NaN   \n",
       "total_acc                          0.093380                         NaN   \n",
       "out_prncp                               NaN                         NaN   \n",
       "out_prncp_inv                           NaN                         NaN   \n",
       "total_pymnt                        0.256170                         NaN   \n",
       "total_pymnt_inv                    0.231322                         NaN   \n",
       "total_rec_prncp                    0.267866                         NaN   \n",
       "total_rec_int                      0.195141                         NaN   \n",
       "total_rec_late_fee                 0.102249                         NaN   \n",
       "recoveries                         0.078041                         NaN   \n",
       "collection_recovery_fee            0.054952                         NaN   \n",
       "last_pymnt_amnt                    1.000000                         NaN   \n",
       "collections_12_mths_ex_med              NaN                         NaN   \n",
       "policy_code                             NaN                         NaN   \n",
       "acc_now_delinq                          NaN                         NaN   \n",
       "chargeoff_within_12_mths                NaN                         NaN   \n",
       "delinq_amnt                             NaN                         NaN   \n",
       "pub_rec_bankruptcies              -0.009905                         NaN   \n",
       "tax_liens                               NaN                         NaN   \n",
       "\n",
       "                            policy_code  acc_now_delinq  \\\n",
       "id                                  NaN             NaN   \n",
       "member_id                           NaN             NaN   \n",
       "loan_amnt                           NaN             NaN   \n",
       "funded_amnt                         NaN             NaN   \n",
       "funded_amnt_inv                     NaN             NaN   \n",
       "installment                         NaN             NaN   \n",
       "annual_inc                          NaN             NaN   \n",
       "dti                                 NaN             NaN   \n",
       "delinq_2yrs                         NaN             NaN   \n",
       "inq_last_6mths                      NaN             NaN   \n",
       "mths_since_last_delinq              NaN             NaN   \n",
       "mths_since_last_record              NaN             NaN   \n",
       "open_acc                            NaN             NaN   \n",
       "pub_rec                             NaN             NaN   \n",
       "revol_bal                           NaN             NaN   \n",
       "total_acc                           NaN             NaN   \n",
       "out_prncp                           NaN             NaN   \n",
       "out_prncp_inv                       NaN             NaN   \n",
       "total_pymnt                         NaN             NaN   \n",
       "total_pymnt_inv                     NaN             NaN   \n",
       "total_rec_prncp                     NaN             NaN   \n",
       "total_rec_int                       NaN             NaN   \n",
       "total_rec_late_fee                  NaN             NaN   \n",
       "recoveries                          NaN             NaN   \n",
       "collection_recovery_fee             NaN             NaN   \n",
       "last_pymnt_amnt                     NaN             NaN   \n",
       "collections_12_mths_ex_med          NaN             NaN   \n",
       "policy_code                         NaN             NaN   \n",
       "acc_now_delinq                      NaN             NaN   \n",
       "chargeoff_within_12_mths            NaN             NaN   \n",
       "delinq_amnt                         NaN             NaN   \n",
       "pub_rec_bankruptcies                NaN             NaN   \n",
       "tax_liens                           NaN             NaN   \n",
       "\n",
       "                            chargeoff_within_12_mths  delinq_amnt  \\\n",
       "id                                               NaN          NaN   \n",
       "member_id                                        NaN          NaN   \n",
       "loan_amnt                                        NaN          NaN   \n",
       "funded_amnt                                      NaN          NaN   \n",
       "funded_amnt_inv                                  NaN          NaN   \n",
       "installment                                      NaN          NaN   \n",
       "annual_inc                                       NaN          NaN   \n",
       "dti                                              NaN          NaN   \n",
       "delinq_2yrs                                      NaN          NaN   \n",
       "inq_last_6mths                                   NaN          NaN   \n",
       "mths_since_last_delinq                           NaN          NaN   \n",
       "mths_since_last_record                           NaN          NaN   \n",
       "open_acc                                         NaN          NaN   \n",
       "pub_rec                                          NaN          NaN   \n",
       "revol_bal                                        NaN          NaN   \n",
       "total_acc                                        NaN          NaN   \n",
       "out_prncp                                        NaN          NaN   \n",
       "out_prncp_inv                                    NaN          NaN   \n",
       "total_pymnt                                      NaN          NaN   \n",
       "total_pymnt_inv                                  NaN          NaN   \n",
       "total_rec_prncp                                  NaN          NaN   \n",
       "total_rec_int                                    NaN          NaN   \n",
       "total_rec_late_fee                               NaN          NaN   \n",
       "recoveries                                       NaN          NaN   \n",
       "collection_recovery_fee                          NaN          NaN   \n",
       "last_pymnt_amnt                                  NaN          NaN   \n",
       "collections_12_mths_ex_med                       NaN          NaN   \n",
       "policy_code                                      NaN          NaN   \n",
       "acc_now_delinq                                   NaN          NaN   \n",
       "chargeoff_within_12_mths                         NaN          NaN   \n",
       "delinq_amnt                                      NaN          NaN   \n",
       "pub_rec_bankruptcies                             NaN          NaN   \n",
       "tax_liens                                        NaN          NaN   \n",
       "\n",
       "                            pub_rec_bankruptcies  tax_liens  \n",
       "id                                     -0.030916        NaN  \n",
       "member_id                              -0.028154        NaN  \n",
       "loan_amnt                              -0.017199        NaN  \n",
       "funded_amnt                            -0.024071        NaN  \n",
       "funded_amnt_inv                        -0.028970        NaN  \n",
       "installment                            -0.019055        NaN  \n",
       "annual_inc                              0.006890        NaN  \n",
       "dti                                     0.015318        NaN  \n",
       "delinq_2yrs                             0.006460        NaN  \n",
       "inq_last_6mths                          0.010612        NaN  \n",
       "mths_since_last_delinq                  0.043520        NaN  \n",
       "mths_since_last_record                  0.809745        NaN  \n",
       "open_acc                                0.067575        NaN  \n",
       "pub_rec                                 0.853072        NaN  \n",
       "revol_bal                              -0.044531        NaN  \n",
       "total_acc                               0.044175        NaN  \n",
       "out_prncp                                    NaN        NaN  \n",
       "out_prncp_inv                                NaN        NaN  \n",
       "total_pymnt                            -0.034784        NaN  \n",
       "total_pymnt_inv                        -0.036984        NaN  \n",
       "total_rec_prncp                        -0.033570        NaN  \n",
       "total_rec_int                          -0.005409        NaN  \n",
       "total_rec_late_fee                     -0.037398        NaN  \n",
       "recoveries                             -0.048137        NaN  \n",
       "collection_recovery_fee                -0.035664        NaN  \n",
       "last_pymnt_amnt                        -0.009905        NaN  \n",
       "collections_12_mths_ex_med                   NaN        NaN  \n",
       "policy_code                                  NaN        NaN  \n",
       "acc_now_delinq                               NaN        NaN  \n",
       "chargeoff_within_12_mths                     NaN        NaN  \n",
       "delinq_amnt                                  NaN        NaN  \n",
       "pub_rec_bankruptcies                    1.000000        NaN  \n",
       "tax_liens                                    NaN        NaN  \n",
       "\n",
       "[33 rows x 33 columns]"
      ]
     },
     "execution_count": 52,
     "metadata": {},
     "output_type": "execute_result"
    }
   ],
   "source": [
    "default.corr()"
   ]
  },
  {
   "cell_type": "markdown",
   "id": "f00d023d",
   "metadata": {},
   "source": [
    "36. **Plotting a scatter plot for 'loan_amnt' and 'annual_inc' using bivariate analysis**"
   ]
  },
  {
   "cell_type": "code",
   "execution_count": 54,
   "id": "e6a194e6",
   "metadata": {},
   "outputs": [
    {
     "data": {
      "text/plain": [
       "<matplotlib.collections.PathCollection at 0x16fa4a31580>"
      ]
     },
     "execution_count": 54,
     "metadata": {},
     "output_type": "execute_result"
    },
    {
     "data": {
      "image/png": "[encoded data removed]",
      "text/plain": [
       "<Figure size 432x288 with 1 Axes>"
      ]
     },
     "metadata": {
      "needs_background": "light"
     },
     "output_type": "display_data"
    }
   ],
   "source": [
    "plt.scatter(default['loan_amnt'], default['annual_inc'])"
   ]
  },
  {
   "cell_type": "markdown",
   "id": "d26f6fad",
   "metadata": {},
   "source": [
    "- This proves that annual income is not a driving factor for them to increase their loans"
   ]
  },
  {
   "cell_type": "markdown",
   "id": "31487c7e",
   "metadata": {},
   "source": [
    "37. **Plotting a scatter plot for 'mths_since_last_delinq' and 'annual_inc' using bivariate analysis**"
   ]
  },
  {
   "cell_type": "code",
   "execution_count": 55,
   "id": "1344f5b3",
   "metadata": {},
   "outputs": [
    {
     "data": {
      "text/plain": [
       "<matplotlib.collections.PathCollection at 0x16fa4a9ac10>"
      ]
     },
     "execution_count": 55,
     "metadata": {},
     "output_type": "execute_result"
    },
    {
     "data": {
      "image/png": "[encoded data removed]",
      "text/plain": [
       "<Figure size 432x288 with 1 Axes>"
      ]
     },
     "metadata": {
      "needs_background": "light"
     },
     "output_type": "display_data"
    }
   ],
   "source": [
    "plt.scatter(default['mths_since_last_delinq'], default['annual_inc'])"
   ]
  },
  {
   "cell_type": "markdown",
   "id": "558effc4",
   "metadata": {},
   "source": [
    "38. **Plotting a scatter plot for 'mths_since_last_delinq' and 'loan_amnt' using bivariate analysis**"
   ]
  },
  {
   "cell_type": "code",
   "execution_count": 58,
   "id": "ff62561d",
   "metadata": {},
   "outputs": [
    {
     "data": {
      "text/plain": [
       "<matplotlib.collections.PathCollection at 0x16fa4b60970>"
      ]
     },
     "execution_count": 58,
     "metadata": {},
     "output_type": "execute_result"
    },
    {
     "data": {
      "image/png": "[encoded data removed]",
      "text/plain": [
       "<Figure size 432x288 with 1 Axes>"
      ]
     },
     "metadata": {
      "needs_background": "light"
     },
     "output_type": "display_data"
    }
   ],
   "source": [
    "plt.scatter(default['mths_since_last_delinq'], default['loan_amnt'])"
   ]
  },
  {
   "cell_type": "code",
   "execution_count": null,
   "id": "c7debaa4",
   "metadata": {},
   "outputs": [],
   "source": []
  }
 ],
 "metadata": {
  "kernelspec": {
   "display_name": "Python 3 (ipykernel)",
   "language": "python",
   "name": "python3"
  },
  "language_info": {
   "codemirror_mode": {
    "name": "ipython",
    "version": 3
   },
   "file_extension": ".py",
   "mimetype": "text/x-python",
   "name": "python",
   "nbconvert_exporter": "python",
   "pygments_lexer": "ipython3",
   "version": "3.9.7"
  }
 },
 "nbformat": 4,
 "nbformat_minor": 5
}
